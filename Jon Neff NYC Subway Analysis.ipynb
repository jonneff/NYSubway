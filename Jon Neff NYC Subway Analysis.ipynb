{
 "metadata": {
  "name": "",
  "signature": "sha256:6b51928f09aa3003ee3ce484447df9bf832badc76735ab3ac92090453e6cc184"
 },
 "nbformat": 3,
 "nbformat_minor": 0,
 "worksheets": [
  {
   "cells": [
    {
     "cell_type": "heading",
     "level": 1,
     "metadata": {},
     "source": [
      "NY Subway Ridership Analysis"
     ]
    },
    {
     "cell_type": "markdown",
     "metadata": {},
     "source": [
      "Problem Statement:  Analyze the New York subway/weather dataset to determine whether more people ride the subway when it is raining or not raining.  Also, develop a linear regression model to predict hourly entries and produce visualizations of the data.  "
     ]
    },
    {
     "cell_type": "heading",
     "level": 2,
     "metadata": {},
     "source": [
      "0. References"
     ]
    },
    {
     "cell_type": "markdown",
     "metadata": {},
     "source": [
      "1.  Ignacio Toledo, \"Project 1: Analyzing the NYC Subway Dataset.\"  \n",
      "http://nbviewer.ipython.org/url/www.alma.cl/~itoledo/Presentation1.ipynb?mkt_tok=3RkMMJWWfF9wsRokvq7BZKXonjHpfsX96u8uXaK2lMI%2F0ER3fOvrPUfGjI4DSMNgI%2BSLDwEYGJlv6SgFTLHGMbdlwLgJWBg%3D\n",
      "\n",
      "2.  http://stackoverflow.com/questions/26977076/pandas-unique-values-multiple-columns\n",
      "\n",
      "3.  http://stackoverflow.com/questions/25002600/finding-min-max-date-with-list-comprehension-in-python\n",
      "\n",
      "4.  https://math.mit.edu/~rmd/465/shapiro.pdf\n",
      "\n",
      "5.  http://stats.stackexchange.com/questions/4783/how-to-add-periodic-component-to-linear-regression-model\n",
      "\n",
      "6.  http://www.mathworks.com/help/signal/ug/frequency-domain-linear-regression.html\n",
      "\n",
      "7.  http://www.simafore.com/blog/bid/111226/Time-Series-Forecasting-data-partitioning-and-visualizing-results\n",
      "\n",
      "8.  Original Mann Whitney paper:  http://projecteuclid.org/DPubS?service=UI&version=1.0&verb=Display&handle=euclid.aoms/1177730491\n",
      "\n",
      "9.  http://numerics.mathdotnet.com/Regression.html\n",
      "\n",
      "10.  http://stackoverflow.com/questions/15382076/plotting-power-spectrum-in-python\n",
      "\n",
      "11.  http://docs.scipy.org/doc/numpy/reference/routines.fft.html\n",
      "\n",
      "12.  http://stackoverflow.com/questions/20821276/python-predicting-extrapolating-future-data-given-a-data-set\n",
      "\n",
      "13.  http://en.wikipedia.org/wiki/Coefficient_of_determination\n",
      "\n",
      "14.  http://stats.stackexchange.com/questions/2492/is-normality-testing-essentially-useless\n",
      "\n",
      "15.  http://stats.stackexchange.com/questions/77359/mann-whitney-u-test-with-very-large-sample-size\n",
      " \n",
      "16.  https://github.com/yhat/ggplot/issues/382"
     ]
    },
    {
     "cell_type": "heading",
     "level": 2,
     "metadata": {},
     "source": [
      "0.5  Exploratory Data Analysis and Wrangling"
     ]
    },
    {
     "cell_type": "markdown",
     "metadata": {},
     "source": [
      "First, I will import the libraries used for this analysis. "
     ]
    },
    {
     "cell_type": "code",
     "collapsed": false,
     "input": [
      "%matplotlib inline\n",
      "import pandas as pd\n",
      "import numpy as np\n",
      "import scipy\n",
      "import scipy.stats\n",
      "import matplotlib.pyplot as plt\n",
      "import statsmodels.api as sm\n",
      "from ggplot import *\n",
      "\n",
      "pd.options.display.max_columns = 50\n",
      "pd.options.mode.chained_assignment = None"
     ],
     "language": "python",
     "metadata": {},
     "outputs": [],
     "prompt_number": 1
    },
    {
     "cell_type": "markdown",
     "metadata": {},
     "source": [
      "We need to load the data and get some basic information about the data set."
     ]
    },
    {
     "cell_type": "code",
     "collapsed": false,
     "input": [
      "df = pd.read_csv('turnstile_weather_v2.csv')"
     ],
     "language": "python",
     "metadata": {},
     "outputs": [],
     "prompt_number": 2
    },
    {
     "cell_type": "code",
     "collapsed": false,
     "input": [
      "df.columns.values"
     ],
     "language": "python",
     "metadata": {},
     "outputs": [
      {
       "metadata": {},
       "output_type": "pyout",
       "prompt_number": 3,
       "text": [
        "array(['UNIT', 'DATEn', 'TIMEn', 'ENTRIESn', 'EXITSn', 'ENTRIESn_hourly',\n",
        "       'EXITSn_hourly', 'datetime', 'hour', 'day_week', 'weekday',\n",
        "       'station', 'latitude', 'longitude', 'conds', 'fog', 'precipi',\n",
        "       'pressurei', 'rain', 'tempi', 'wspdi', 'meanprecipi',\n",
        "       'meanpressurei', 'meantempi', 'meanwspdi', 'weather_lat',\n",
        "       'weather_lon'], dtype=object)"
       ]
      }
     ],
     "prompt_number": 3
    },
    {
     "cell_type": "code",
     "collapsed": false,
     "input": [
      "df.head()"
     ],
     "language": "python",
     "metadata": {},
     "outputs": [
      {
       "html": [
        "<div style=\"max-height:1000px;max-width:1500px;overflow:auto;\">\n",
        "<table border=\"1\" class=\"dataframe\">\n",
        "  <thead>\n",
        "    <tr style=\"text-align: right;\">\n",
        "      <th></th>\n",
        "      <th>UNIT</th>\n",
        "      <th>DATEn</th>\n",
        "      <th>TIMEn</th>\n",
        "      <th>ENTRIESn</th>\n",
        "      <th>EXITSn</th>\n",
        "      <th>ENTRIESn_hourly</th>\n",
        "      <th>EXITSn_hourly</th>\n",
        "      <th>datetime</th>\n",
        "      <th>hour</th>\n",
        "      <th>day_week</th>\n",
        "      <th>weekday</th>\n",
        "      <th>station</th>\n",
        "      <th>latitude</th>\n",
        "      <th>longitude</th>\n",
        "      <th>conds</th>\n",
        "      <th>fog</th>\n",
        "      <th>precipi</th>\n",
        "      <th>pressurei</th>\n",
        "      <th>rain</th>\n",
        "      <th>tempi</th>\n",
        "      <th>wspdi</th>\n",
        "      <th>meanprecipi</th>\n",
        "      <th>meanpressurei</th>\n",
        "      <th>meantempi</th>\n",
        "      <th>meanwspdi</th>\n",
        "      <th>weather_lat</th>\n",
        "      <th>weather_lon</th>\n",
        "    </tr>\n",
        "  </thead>\n",
        "  <tbody>\n",
        "    <tr>\n",
        "      <th>0</th>\n",
        "      <td> R003</td>\n",
        "      <td> 05-01-11</td>\n",
        "      <td> 00:00:00</td>\n",
        "      <td> 4388333</td>\n",
        "      <td> 2911002</td>\n",
        "      <td> 0</td>\n",
        "      <td> 0</td>\n",
        "      <td> 2011-05-01 00:00:00</td>\n",
        "      <td>  0</td>\n",
        "      <td> 6</td>\n",
        "      <td> 0</td>\n",
        "      <td> CYPRESS HILLS</td>\n",
        "      <td> 40.689945</td>\n",
        "      <td>-73.872564</td>\n",
        "      <td>         Clear</td>\n",
        "      <td> 0</td>\n",
        "      <td> 0</td>\n",
        "      <td> 30.22</td>\n",
        "      <td> 0</td>\n",
        "      <td> 55.9</td>\n",
        "      <td>  3.5</td>\n",
        "      <td> 0</td>\n",
        "      <td> 30.258</td>\n",
        "      <td> 55.98</td>\n",
        "      <td> 7.86</td>\n",
        "      <td> 40.700348</td>\n",
        "      <td>-73.887177</td>\n",
        "    </tr>\n",
        "    <tr>\n",
        "      <th>1</th>\n",
        "      <td> R003</td>\n",
        "      <td> 05-01-11</td>\n",
        "      <td> 04:00:00</td>\n",
        "      <td> 4388333</td>\n",
        "      <td> 2911002</td>\n",
        "      <td> 0</td>\n",
        "      <td> 0</td>\n",
        "      <td> 2011-05-01 04:00:00</td>\n",
        "      <td>  4</td>\n",
        "      <td> 6</td>\n",
        "      <td> 0</td>\n",
        "      <td> CYPRESS HILLS</td>\n",
        "      <td> 40.689945</td>\n",
        "      <td>-73.872564</td>\n",
        "      <td> Partly Cloudy</td>\n",
        "      <td> 0</td>\n",
        "      <td> 0</td>\n",
        "      <td> 30.25</td>\n",
        "      <td> 0</td>\n",
        "      <td> 52.0</td>\n",
        "      <td>  3.5</td>\n",
        "      <td> 0</td>\n",
        "      <td> 30.258</td>\n",
        "      <td> 55.98</td>\n",
        "      <td> 7.86</td>\n",
        "      <td> 40.700348</td>\n",
        "      <td>-73.887177</td>\n",
        "    </tr>\n",
        "    <tr>\n",
        "      <th>2</th>\n",
        "      <td> R003</td>\n",
        "      <td> 05-01-11</td>\n",
        "      <td> 12:00:00</td>\n",
        "      <td> 4388333</td>\n",
        "      <td> 2911002</td>\n",
        "      <td> 0</td>\n",
        "      <td> 0</td>\n",
        "      <td> 2011-05-01 12:00:00</td>\n",
        "      <td> 12</td>\n",
        "      <td> 6</td>\n",
        "      <td> 0</td>\n",
        "      <td> CYPRESS HILLS</td>\n",
        "      <td> 40.689945</td>\n",
        "      <td>-73.872564</td>\n",
        "      <td> Mostly Cloudy</td>\n",
        "      <td> 0</td>\n",
        "      <td> 0</td>\n",
        "      <td> 30.28</td>\n",
        "      <td> 0</td>\n",
        "      <td> 62.1</td>\n",
        "      <td>  6.9</td>\n",
        "      <td> 0</td>\n",
        "      <td> 30.258</td>\n",
        "      <td> 55.98</td>\n",
        "      <td> 7.86</td>\n",
        "      <td> 40.700348</td>\n",
        "      <td>-73.887177</td>\n",
        "    </tr>\n",
        "    <tr>\n",
        "      <th>3</th>\n",
        "      <td> R003</td>\n",
        "      <td> 05-01-11</td>\n",
        "      <td> 16:00:00</td>\n",
        "      <td> 4388333</td>\n",
        "      <td> 2911002</td>\n",
        "      <td> 0</td>\n",
        "      <td> 0</td>\n",
        "      <td> 2011-05-01 16:00:00</td>\n",
        "      <td> 16</td>\n",
        "      <td> 6</td>\n",
        "      <td> 0</td>\n",
        "      <td> CYPRESS HILLS</td>\n",
        "      <td> 40.689945</td>\n",
        "      <td>-73.872564</td>\n",
        "      <td> Mostly Cloudy</td>\n",
        "      <td> 0</td>\n",
        "      <td> 0</td>\n",
        "      <td> 30.26</td>\n",
        "      <td> 0</td>\n",
        "      <td> 57.9</td>\n",
        "      <td> 15.0</td>\n",
        "      <td> 0</td>\n",
        "      <td> 30.258</td>\n",
        "      <td> 55.98</td>\n",
        "      <td> 7.86</td>\n",
        "      <td> 40.700348</td>\n",
        "      <td>-73.887177</td>\n",
        "    </tr>\n",
        "    <tr>\n",
        "      <th>4</th>\n",
        "      <td> R003</td>\n",
        "      <td> 05-01-11</td>\n",
        "      <td> 20:00:00</td>\n",
        "      <td> 4388333</td>\n",
        "      <td> 2911002</td>\n",
        "      <td> 0</td>\n",
        "      <td> 0</td>\n",
        "      <td> 2011-05-01 20:00:00</td>\n",
        "      <td> 20</td>\n",
        "      <td> 6</td>\n",
        "      <td> 0</td>\n",
        "      <td> CYPRESS HILLS</td>\n",
        "      <td> 40.689945</td>\n",
        "      <td>-73.872564</td>\n",
        "      <td> Mostly Cloudy</td>\n",
        "      <td> 0</td>\n",
        "      <td> 0</td>\n",
        "      <td> 30.28</td>\n",
        "      <td> 0</td>\n",
        "      <td> 52.0</td>\n",
        "      <td> 10.4</td>\n",
        "      <td> 0</td>\n",
        "      <td> 30.258</td>\n",
        "      <td> 55.98</td>\n",
        "      <td> 7.86</td>\n",
        "      <td> 40.700348</td>\n",
        "      <td>-73.887177</td>\n",
        "    </tr>\n",
        "  </tbody>\n",
        "</table>\n",
        "</div>"
       ],
       "metadata": {},
       "output_type": "pyout",
       "prompt_number": 4,
       "text": [
        "   UNIT     DATEn     TIMEn  ENTRIESn   EXITSn  ENTRIESn_hourly  \\\n",
        "0  R003  05-01-11  00:00:00   4388333  2911002                0   \n",
        "1  R003  05-01-11  04:00:00   4388333  2911002                0   \n",
        "2  R003  05-01-11  12:00:00   4388333  2911002                0   \n",
        "3  R003  05-01-11  16:00:00   4388333  2911002                0   \n",
        "4  R003  05-01-11  20:00:00   4388333  2911002                0   \n",
        "\n",
        "   EXITSn_hourly             datetime  hour  day_week  weekday        station  \\\n",
        "0              0  2011-05-01 00:00:00     0         6        0  CYPRESS HILLS   \n",
        "1              0  2011-05-01 04:00:00     4         6        0  CYPRESS HILLS   \n",
        "2              0  2011-05-01 12:00:00    12         6        0  CYPRESS HILLS   \n",
        "3              0  2011-05-01 16:00:00    16         6        0  CYPRESS HILLS   \n",
        "4              0  2011-05-01 20:00:00    20         6        0  CYPRESS HILLS   \n",
        "\n",
        "    latitude  longitude          conds  fog  precipi  pressurei  rain  tempi  \\\n",
        "0  40.689945 -73.872564          Clear    0        0      30.22     0   55.9   \n",
        "1  40.689945 -73.872564  Partly Cloudy    0        0      30.25     0   52.0   \n",
        "2  40.689945 -73.872564  Mostly Cloudy    0        0      30.28     0   62.1   \n",
        "3  40.689945 -73.872564  Mostly Cloudy    0        0      30.26     0   57.9   \n",
        "4  40.689945 -73.872564  Mostly Cloudy    0        0      30.28     0   52.0   \n",
        "\n",
        "   wspdi  meanprecipi  meanpressurei  meantempi  meanwspdi  weather_lat  \\\n",
        "0    3.5            0         30.258      55.98       7.86    40.700348   \n",
        "1    3.5            0         30.258      55.98       7.86    40.700348   \n",
        "2    6.9            0         30.258      55.98       7.86    40.700348   \n",
        "3   15.0            0         30.258      55.98       7.86    40.700348   \n",
        "4   10.4            0         30.258      55.98       7.86    40.700348   \n",
        "\n",
        "   weather_lon  \n",
        "0   -73.887177  \n",
        "1   -73.887177  \n",
        "2   -73.887177  \n",
        "3   -73.887177  \n",
        "4   -73.887177  "
       ]
      }
     ],
     "prompt_number": 4
    },
    {
     "cell_type": "code",
     "collapsed": false,
     "input": [
      "df.dtypes"
     ],
     "language": "python",
     "metadata": {},
     "outputs": [
      {
       "metadata": {},
       "output_type": "pyout",
       "prompt_number": 5,
       "text": [
        "UNIT                object\n",
        "DATEn               object\n",
        "TIMEn               object\n",
        "ENTRIESn             int64\n",
        "EXITSn               int64\n",
        "ENTRIESn_hourly    float64\n",
        "EXITSn_hourly      float64\n",
        "datetime            object\n",
        "hour                 int64\n",
        "day_week             int64\n",
        "weekday              int64\n",
        "station             object\n",
        "latitude           float64\n",
        "longitude          float64\n",
        "conds               object\n",
        "fog                  int64\n",
        "precipi            float64\n",
        "pressurei          float64\n",
        "rain                 int64\n",
        "tempi              float64\n",
        "wspdi              float64\n",
        "meanprecipi        float64\n",
        "meanpressurei      float64\n",
        "meantempi          float64\n",
        "meanwspdi          float64\n",
        "weather_lat        float64\n",
        "weather_lon        float64\n",
        "dtype: object"
       ]
      }
     ],
     "prompt_number": 5
    },
    {
     "cell_type": "markdown",
     "metadata": {},
     "source": [
      "Below are some summary statistics for the New York City subway data set.  Note that summary statistics are returned for all numeric columns, even if in some cases they don't have much meaning.  "
     ]
    },
    {
     "cell_type": "code",
     "collapsed": false,
     "input": [
      "df.describe()"
     ],
     "language": "python",
     "metadata": {},
     "outputs": [
      {
       "html": [
        "<div style=\"max-height:1000px;max-width:1500px;overflow:auto;\">\n",
        "<table border=\"1\" class=\"dataframe\">\n",
        "  <thead>\n",
        "    <tr style=\"text-align: right;\">\n",
        "      <th></th>\n",
        "      <th>ENTRIESn</th>\n",
        "      <th>EXITSn</th>\n",
        "      <th>ENTRIESn_hourly</th>\n",
        "      <th>EXITSn_hourly</th>\n",
        "      <th>hour</th>\n",
        "      <th>day_week</th>\n",
        "      <th>weekday</th>\n",
        "      <th>latitude</th>\n",
        "      <th>longitude</th>\n",
        "      <th>fog</th>\n",
        "      <th>precipi</th>\n",
        "      <th>pressurei</th>\n",
        "      <th>rain</th>\n",
        "      <th>tempi</th>\n",
        "      <th>wspdi</th>\n",
        "      <th>meanprecipi</th>\n",
        "      <th>meanpressurei</th>\n",
        "      <th>meantempi</th>\n",
        "      <th>meanwspdi</th>\n",
        "      <th>weather_lat</th>\n",
        "      <th>weather_lon</th>\n",
        "    </tr>\n",
        "  </thead>\n",
        "  <tbody>\n",
        "    <tr>\n",
        "      <th>count</th>\n",
        "      <td> 4.264900e+04</td>\n",
        "      <td> 4.264900e+04</td>\n",
        "      <td> 42649.000000</td>\n",
        "      <td> 42649.000000</td>\n",
        "      <td> 42649.000000</td>\n",
        "      <td> 42649.000000</td>\n",
        "      <td> 42649.000000</td>\n",
        "      <td> 42649.000000</td>\n",
        "      <td> 42649.000000</td>\n",
        "      <td> 42649.000000</td>\n",
        "      <td> 42649.000000</td>\n",
        "      <td> 42649.000000</td>\n",
        "      <td> 42649.000000</td>\n",
        "      <td> 42649.000000</td>\n",
        "      <td> 42649.000000</td>\n",
        "      <td> 42649.000000</td>\n",
        "      <td> 42649.000000</td>\n",
        "      <td> 42649.000000</td>\n",
        "      <td> 42649.000000</td>\n",
        "      <td> 42649.000000</td>\n",
        "      <td> 42649.000000</td>\n",
        "    </tr>\n",
        "    <tr>\n",
        "      <th>mean</th>\n",
        "      <td> 2.812486e+07</td>\n",
        "      <td> 1.986993e+07</td>\n",
        "      <td>  1886.589955</td>\n",
        "      <td>  1361.487866</td>\n",
        "      <td>    10.046754</td>\n",
        "      <td>     2.905719</td>\n",
        "      <td>     0.714436</td>\n",
        "      <td>    40.724647</td>\n",
        "      <td>   -73.940364</td>\n",
        "      <td>     0.009824</td>\n",
        "      <td>     0.004618</td>\n",
        "      <td>    29.971096</td>\n",
        "      <td>     0.224741</td>\n",
        "      <td>    63.103780</td>\n",
        "      <td>     6.927872</td>\n",
        "      <td>     0.004618</td>\n",
        "      <td>    29.971096</td>\n",
        "      <td>    63.103780</td>\n",
        "      <td>     6.927872</td>\n",
        "      <td>    40.728555</td>\n",
        "      <td>   -73.938693</td>\n",
        "    </tr>\n",
        "    <tr>\n",
        "      <th>std</th>\n",
        "      <td> 3.043607e+07</td>\n",
        "      <td> 2.028986e+07</td>\n",
        "      <td>  2952.385585</td>\n",
        "      <td>  2183.845409</td>\n",
        "      <td>     6.938928</td>\n",
        "      <td>     2.079231</td>\n",
        "      <td>     0.451688</td>\n",
        "      <td>     0.071650</td>\n",
        "      <td>     0.059713</td>\n",
        "      <td>     0.098631</td>\n",
        "      <td>     0.025832</td>\n",
        "      <td>     0.137942</td>\n",
        "      <td>     0.417417</td>\n",
        "      <td>     8.455597</td>\n",
        "      <td>     4.510178</td>\n",
        "      <td>     0.016344</td>\n",
        "      <td>     0.131158</td>\n",
        "      <td>     6.939011</td>\n",
        "      <td>     3.179832</td>\n",
        "      <td>     0.065420</td>\n",
        "      <td>     0.059582</td>\n",
        "    </tr>\n",
        "    <tr>\n",
        "      <th>min</th>\n",
        "      <td> 0.000000e+00</td>\n",
        "      <td> 0.000000e+00</td>\n",
        "      <td>     0.000000</td>\n",
        "      <td>     0.000000</td>\n",
        "      <td>     0.000000</td>\n",
        "      <td>     0.000000</td>\n",
        "      <td>     0.000000</td>\n",
        "      <td>    40.576152</td>\n",
        "      <td>   -74.073622</td>\n",
        "      <td>     0.000000</td>\n",
        "      <td>     0.000000</td>\n",
        "      <td>    29.550000</td>\n",
        "      <td>     0.000000</td>\n",
        "      <td>    46.900000</td>\n",
        "      <td>     0.000000</td>\n",
        "      <td>     0.000000</td>\n",
        "      <td>    29.590000</td>\n",
        "      <td>    49.400000</td>\n",
        "      <td>     0.000000</td>\n",
        "      <td>    40.600204</td>\n",
        "      <td>   -74.014870</td>\n",
        "    </tr>\n",
        "    <tr>\n",
        "      <th>25%</th>\n",
        "      <td> 1.039762e+07</td>\n",
        "      <td> 7.613712e+06</td>\n",
        "      <td>   274.000000</td>\n",
        "      <td>   237.000000</td>\n",
        "      <td>     4.000000</td>\n",
        "      <td>     1.000000</td>\n",
        "      <td>     0.000000</td>\n",
        "      <td>    40.677107</td>\n",
        "      <td>   -73.987342</td>\n",
        "      <td>     0.000000</td>\n",
        "      <td>     0.000000</td>\n",
        "      <td>    29.890000</td>\n",
        "      <td>     0.000000</td>\n",
        "      <td>    57.000000</td>\n",
        "      <td>     4.600000</td>\n",
        "      <td>     0.000000</td>\n",
        "      <td>    29.913333</td>\n",
        "      <td>    58.283333</td>\n",
        "      <td>     4.816667</td>\n",
        "      <td>    40.688591</td>\n",
        "      <td>   -73.985130</td>\n",
        "    </tr>\n",
        "    <tr>\n",
        "      <th>50%</th>\n",
        "      <td> 1.818389e+07</td>\n",
        "      <td> 1.331609e+07</td>\n",
        "      <td>   905.000000</td>\n",
        "      <td>   664.000000</td>\n",
        "      <td>    12.000000</td>\n",
        "      <td>     3.000000</td>\n",
        "      <td>     1.000000</td>\n",
        "      <td>    40.717241</td>\n",
        "      <td>   -73.953459</td>\n",
        "      <td>     0.000000</td>\n",
        "      <td>     0.000000</td>\n",
        "      <td>    29.960000</td>\n",
        "      <td>     0.000000</td>\n",
        "      <td>    61.000000</td>\n",
        "      <td>     6.900000</td>\n",
        "      <td>     0.000000</td>\n",
        "      <td>    29.958000</td>\n",
        "      <td>    60.950000</td>\n",
        "      <td>     6.166667</td>\n",
        "      <td>    40.720570</td>\n",
        "      <td>   -73.949150</td>\n",
        "    </tr>\n",
        "    <tr>\n",
        "      <th>75%</th>\n",
        "      <td> 3.263049e+07</td>\n",
        "      <td> 2.393771e+07</td>\n",
        "      <td>  2255.000000</td>\n",
        "      <td>  1537.000000</td>\n",
        "      <td>    16.000000</td>\n",
        "      <td>     5.000000</td>\n",
        "      <td>     1.000000</td>\n",
        "      <td>    40.759123</td>\n",
        "      <td>   -73.907733</td>\n",
        "      <td>     0.000000</td>\n",
        "      <td>     0.000000</td>\n",
        "      <td>    30.060000</td>\n",
        "      <td>     0.000000</td>\n",
        "      <td>    69.100000</td>\n",
        "      <td>     9.200000</td>\n",
        "      <td>     0.000000</td>\n",
        "      <td>    30.060000</td>\n",
        "      <td>    67.466667</td>\n",
        "      <td>     8.850000</td>\n",
        "      <td>    40.755226</td>\n",
        "      <td>   -73.912033</td>\n",
        "    </tr>\n",
        "    <tr>\n",
        "      <th>max</th>\n",
        "      <td> 2.357746e+08</td>\n",
        "      <td> 1.493782e+08</td>\n",
        "      <td> 32814.000000</td>\n",
        "      <td> 34828.000000</td>\n",
        "      <td>    20.000000</td>\n",
        "      <td>     6.000000</td>\n",
        "      <td>     1.000000</td>\n",
        "      <td>    40.889185</td>\n",
        "      <td>   -73.755383</td>\n",
        "      <td>     1.000000</td>\n",
        "      <td>     0.300000</td>\n",
        "      <td>    30.320000</td>\n",
        "      <td>     1.000000</td>\n",
        "      <td>    86.000000</td>\n",
        "      <td>    23.000000</td>\n",
        "      <td>     0.157500</td>\n",
        "      <td>    30.293333</td>\n",
        "      <td>    79.800000</td>\n",
        "      <td>    17.083333</td>\n",
        "      <td>    40.862064</td>\n",
        "      <td>   -73.694176</td>\n",
        "    </tr>\n",
        "  </tbody>\n",
        "</table>\n",
        "</div>"
       ],
       "metadata": {},
       "output_type": "pyout",
       "prompt_number": 6,
       "text": [
        "           ENTRIESn        EXITSn  ENTRIESn_hourly  EXITSn_hourly  \\\n",
        "count  4.264900e+04  4.264900e+04     42649.000000   42649.000000   \n",
        "mean   2.812486e+07  1.986993e+07      1886.589955    1361.487866   \n",
        "std    3.043607e+07  2.028986e+07      2952.385585    2183.845409   \n",
        "min    0.000000e+00  0.000000e+00         0.000000       0.000000   \n",
        "25%    1.039762e+07  7.613712e+06       274.000000     237.000000   \n",
        "50%    1.818389e+07  1.331609e+07       905.000000     664.000000   \n",
        "75%    3.263049e+07  2.393771e+07      2255.000000    1537.000000   \n",
        "max    2.357746e+08  1.493782e+08     32814.000000   34828.000000   \n",
        "\n",
        "               hour      day_week       weekday      latitude     longitude  \\\n",
        "count  42649.000000  42649.000000  42649.000000  42649.000000  42649.000000   \n",
        "mean      10.046754      2.905719      0.714436     40.724647    -73.940364   \n",
        "std        6.938928      2.079231      0.451688      0.071650      0.059713   \n",
        "min        0.000000      0.000000      0.000000     40.576152    -74.073622   \n",
        "25%        4.000000      1.000000      0.000000     40.677107    -73.987342   \n",
        "50%       12.000000      3.000000      1.000000     40.717241    -73.953459   \n",
        "75%       16.000000      5.000000      1.000000     40.759123    -73.907733   \n",
        "max       20.000000      6.000000      1.000000     40.889185    -73.755383   \n",
        "\n",
        "                fog       precipi     pressurei          rain         tempi  \\\n",
        "count  42649.000000  42649.000000  42649.000000  42649.000000  42649.000000   \n",
        "mean       0.009824      0.004618     29.971096      0.224741     63.103780   \n",
        "std        0.098631      0.025832      0.137942      0.417417      8.455597   \n",
        "min        0.000000      0.000000     29.550000      0.000000     46.900000   \n",
        "25%        0.000000      0.000000     29.890000      0.000000     57.000000   \n",
        "50%        0.000000      0.000000     29.960000      0.000000     61.000000   \n",
        "75%        0.000000      0.000000     30.060000      0.000000     69.100000   \n",
        "max        1.000000      0.300000     30.320000      1.000000     86.000000   \n",
        "\n",
        "              wspdi   meanprecipi  meanpressurei     meantempi     meanwspdi  \\\n",
        "count  42649.000000  42649.000000   42649.000000  42649.000000  42649.000000   \n",
        "mean       6.927872      0.004618      29.971096     63.103780      6.927872   \n",
        "std        4.510178      0.016344       0.131158      6.939011      3.179832   \n",
        "min        0.000000      0.000000      29.590000     49.400000      0.000000   \n",
        "25%        4.600000      0.000000      29.913333     58.283333      4.816667   \n",
        "50%        6.900000      0.000000      29.958000     60.950000      6.166667   \n",
        "75%        9.200000      0.000000      30.060000     67.466667      8.850000   \n",
        "max       23.000000      0.157500      30.293333     79.800000     17.083333   \n",
        "\n",
        "        weather_lat   weather_lon  \n",
        "count  42649.000000  42649.000000  \n",
        "mean      40.728555    -73.938693  \n",
        "std        0.065420      0.059582  \n",
        "min       40.600204    -74.014870  \n",
        "25%       40.688591    -73.985130  \n",
        "50%       40.720570    -73.949150  \n",
        "75%       40.755226    -73.912033  \n",
        "max       40.862064    -73.694176  "
       ]
      }
     ],
     "prompt_number": 6
    },
    {
     "cell_type": "markdown",
     "metadata": {},
     "source": [
      "We will be working extensively with the ENTRIESn_hourly column for both statistical testing and linear regression.  Assuming that ENTRIESn_hourly was derived as in Problem Set 2, the ENTRIESn_hourly value in each row represents the entries recorded at the turnstile since the time of the previous row.  So how much time elapses between entries?  By looking at the unique values in the 'hours' column, we conclude that it is every four hours, unless there is missing data at a turnstile.  "
     ]
    },
    {
     "cell_type": "code",
     "collapsed": false,
     "input": [
      "np.unique(df['hour'].values)"
     ],
     "language": "python",
     "metadata": {},
     "outputs": [
      {
       "metadata": {},
       "output_type": "pyout",
       "prompt_number": 7,
       "text": [
        "array([ 0,  4,  8, 12, 16, 20])"
       ]
      }
     ],
     "prompt_number": 7
    },
    {
     "cell_type": "markdown",
     "metadata": {},
     "source": [
      "The range of dates included in the data set are given below.  The data set covers the month of May in 2011.  "
     ]
    },
    {
     "cell_type": "code",
     "collapsed": false,
     "input": [
      "min(df['DATEn'])"
     ],
     "language": "python",
     "metadata": {},
     "outputs": [
      {
       "metadata": {},
       "output_type": "pyout",
       "prompt_number": 8,
       "text": [
        "'05-01-11'"
       ]
      }
     ],
     "prompt_number": 8
    },
    {
     "cell_type": "code",
     "collapsed": false,
     "input": [
      "max(df['DATEn'])"
     ],
     "language": "python",
     "metadata": {},
     "outputs": [
      {
       "metadata": {},
       "output_type": "pyout",
       "prompt_number": 9,
       "text": [
        "'05-31-11'"
       ]
      }
     ],
     "prompt_number": 9
    },
    {
     "cell_type": "markdown",
     "metadata": {},
     "source": [
      "As noted in Reference 1, May 30, 2011 was a holiday: Memorial Day.  Since we expect holiday ridership to be different from ridership on days that are not holidays, we will drop this day from our data set.  Because we don't want discontinuous data for regression, we will drop May 31 as well.  "
     ]
    },
    {
     "cell_type": "code",
     "collapsed": false,
     "input": [
      "df = df[(df['DATEn']!='05-30-11')&(df['DATEn']!='05-31-11')]\n",
      "max(df['DATEn'])"
     ],
     "language": "python",
     "metadata": {},
     "outputs": [
      {
       "metadata": {},
       "output_type": "pyout",
       "prompt_number": 10,
       "text": [
        "'05-29-11'"
       ]
      }
     ],
     "prompt_number": 10
    },
    {
     "cell_type": "code",
     "collapsed": false,
     "input": [
      "df.ENTRIESn_hourly.sum()"
     ],
     "language": "python",
     "metadata": {},
     "outputs": [
      {
       "metadata": {},
       "output_type": "pyout",
       "prompt_number": 11,
       "text": [
        "76178065.0"
       ]
      }
     ],
     "prompt_number": 11
    },
    {
     "cell_type": "code",
     "collapsed": false,
     "input": [
      "df.count()"
     ],
     "language": "python",
     "metadata": {},
     "outputs": [
      {
       "metadata": {},
       "output_type": "pyout",
       "prompt_number": 12,
       "text": [
        "UNIT               39840\n",
        "DATEn              39840\n",
        "TIMEn              39840\n",
        "ENTRIESn           39840\n",
        "EXITSn             39840\n",
        "ENTRIESn_hourly    39840\n",
        "EXITSn_hourly      39840\n",
        "datetime           39840\n",
        "hour               39840\n",
        "day_week           39840\n",
        "weekday            39840\n",
        "station            39840\n",
        "latitude           39840\n",
        "longitude          39840\n",
        "conds              39840\n",
        "fog                39840\n",
        "precipi            39840\n",
        "pressurei          39840\n",
        "rain               39840\n",
        "tempi              39840\n",
        "wspdi              39840\n",
        "meanprecipi        39840\n",
        "meanpressurei      39840\n",
        "meantempi          39840\n",
        "meanwspdi          39840\n",
        "weather_lat        39840\n",
        "weather_lon        39840\n",
        "dtype: int64"
       ]
      }
     ],
     "prompt_number": 12
    },
    {
     "cell_type": "heading",
     "level": 2,
     "metadata": {},
     "source": [
      "1.  Statistical Tests"
     ]
    },
    {
     "cell_type": "markdown",
     "metadata": {},
     "source": [
      "In this section we will run statistical tests to determine whether more people ride the subway when it is raining or not raining.  \n",
      "\n",
      "<b>Note that answers to specific questions are included in section 1.5 below.</b>"
     ]
    },
    {
     "cell_type": "heading",
     "level": 3,
     "metadata": {},
     "source": [
      "1.1 Testing Normality:  Too Much of a Good Thing"
     ]
    },
    {
     "cell_type": "markdown",
     "metadata": {},
     "source": [
      "In order to pick an appropriate test, we need to determine whether the distribution of hourly entries is normal or non-normal.  For this purpose, we can use the Shapiro-Wilks test."
     ]
    },
    {
     "cell_type": "code",
     "collapsed": false,
     "input": [
      "rainy = df[df['rain'] == 1]['ENTRIESn_hourly']\n",
      "scipy.stats.shapiro(rainy)"
     ],
     "language": "python",
     "metadata": {},
     "outputs": [
      {
       "output_type": "stream",
       "stream": "stderr",
       "text": [
        "/Users/jonneff/anaconda/lib/python2.7/site-packages/scipy/stats/morestats.py:995: UserWarning: p-value may not be accurate for N > 5000.\n",
        "  warnings.warn(\"p-value may not be accurate for N > 5000.\")\n"
       ]
      },
      {
       "metadata": {},
       "output_type": "pyout",
       "prompt_number": 13,
       "text": [
        "(0.5954216718673706, 0.0)"
       ]
      }
     ],
     "prompt_number": 13
    },
    {
     "cell_type": "code",
     "collapsed": false,
     "input": [
      "rainy.count()"
     ],
     "language": "python",
     "metadata": {},
     "outputs": [
      {
       "metadata": {},
       "output_type": "pyout",
       "prompt_number": 14,
       "text": [
        "9477"
       ]
      }
     ],
     "prompt_number": 14
    },
    {
     "cell_type": "markdown",
     "metadata": {},
     "source": [
      "Here, W is approximately 0.5939 and (one-sided) p is 0.0.  The problem, as noted in the warning message from the scipy library, is that the p-value may not be accurate in testing for normality with this large of a sample size.  For that reason, we have to say that the test is inconclusive.  "
     ]
    },
    {
     "cell_type": "code",
     "collapsed": false,
     "input": [
      "not_rainy = df[df['rain'] == 0]['ENTRIESn_hourly']\n",
      "scipy.stats.shapiro(not_rainy)"
     ],
     "language": "python",
     "metadata": {},
     "outputs": [
      {
       "metadata": {},
       "output_type": "pyout",
       "prompt_number": 15,
       "text": [
        "(0.5990012884140015, 0.0)"
       ]
      }
     ],
     "prompt_number": 15
    },
    {
     "cell_type": "code",
     "collapsed": false,
     "input": [
      "not_rainy.count()"
     ],
     "language": "python",
     "metadata": {},
     "outputs": [
      {
       "metadata": {},
       "output_type": "pyout",
       "prompt_number": 16,
       "text": [
        "30363"
       ]
      }
     ],
     "prompt_number": 16
    },
    {
     "cell_type": "markdown",
     "metadata": {},
     "source": [
      "Similarly, the Shapiro-Wilks test for non-rainy days is inconclusive because our sample size is much larger than 5000.  \n",
      "\n",
      "This illustrates a larger problem.  When you have a very large sample size (which is becoming more common today), the power of normality tests (and other goodness-of-fit tests) increases to the point that even very small deviations cause the test to reject the null hypothesis.  Some people call this \"overpowering.\"  (References 14 and 15).   Since real-world data almost always contains some noise, relying solely on p-values can be misleading.  \n",
      "\n",
      "So what can we do?  One approach is to plot histograms for the samples and compare them visually to the normal distribution.  "
     ]
    },
    {
     "cell_type": "code",
     "collapsed": false,
     "input": [
      "rainydf = df[df['rain'] == 1]\n",
      "rainydf = rainydf.dropna().reset_index(drop=True)\n",
      "ggplot(rainydf, aes(x = 'ENTRIESn_hourly')) + geom_histogram(binwidth = 200) + ggtitle(\n",
      "\"ENTRIESn_hourly for Rainy Days\") + ylab('Frequency')"
     ],
     "language": "python",
     "metadata": {},
     "outputs": [
      {
       "metadata": {},
       "output_type": "display_data",
       "png": "[encoded data removed]",
       "text": [
        "<matplotlib.figure.Figure at 0x10f43eb50>"
       ]
      },
      {
       "metadata": {},
       "output_type": "pyout",
       "prompt_number": 21,
       "text": [
        "<ggplot: (284438905)>"
       ]
      }
     ],
     "prompt_number": 21
    },
    {
     "cell_type": "code",
     "collapsed": false,
     "input": [
      "not_rainydf = df[df['rain'] == 0]\n",
      "ggplot(not_rainydf, aes(x = 'ENTRIESn_hourly')) + geom_histogram(binwidth = 200) + ggtitle(\n",
      "\"ENTRIESn_hourly for Non-Rainy Days\") + ylab('Frequency')"
     ],
     "language": "python",
     "metadata": {},
     "outputs": [
      {
       "metadata": {},
       "output_type": "display_data",
       "png": "[encoded data removed]",
       "text": [
        "<matplotlib.figure.Figure at 0x10f415ed0>"
       ]
      },
      {
       "metadata": {},
       "output_type": "pyout",
       "prompt_number": 22,
       "text": [
        "<ggplot: (279769885)>"
       ]
      }
     ],
     "prompt_number": 22
    },
    {
     "cell_type": "markdown",
     "metadata": {},
     "source": [
      "By inspection, both rainy and not-rainy samples are not normally distributed.  \n",
      "\n",
      "Another approach would be to do a Q-Q plot and see if the points lie near a straight line.  We will do that plot another time.  "
     ]
    },
    {
     "cell_type": "heading",
     "level": 3,
     "metadata": {},
     "source": [
      "1.2 Initial Analysis:  Rainy Days vs. Not-Rainy Days"
     ]
    },
    {
     "cell_type": "markdown",
     "metadata": {},
     "source": [
      "Since the populations are normally distributed, it is appropriate to use a non-parametric test to determine if rainy days and non-rainy days.  Our sample sizes are not small, but non-parametric tests also have the advantage that they do not require large sample sizes.  We can use the Mann-Whitney U test to determine if the rainy and non-rainy hourly entries come from the same population.  "
     ]
    },
    {
     "cell_type": "code",
     "collapsed": false,
     "input": [
      "U_day, p_day = scipy.stats.mannwhitneyu(rainy, not_rainy)\n",
      "2*p_day"
     ],
     "language": "python",
     "metadata": {},
     "outputs": [
      {
       "metadata": {},
       "output_type": "pyout",
       "prompt_number": 23,
       "text": [
        "1.4683447201900585e-05"
       ]
      }
     ],
     "prompt_number": 23
    },
    {
     "cell_type": "markdown",
     "metadata": {},
     "source": [
      "Since the 2-sided p-value << 0.05, we reject the null hypothesis that the the hourly entries for rainy days and non-rainy days come from the same population.  But do more people ride when it is rainy or not rainy?"
     ]
    },
    {
     "cell_type": "code",
     "collapsed": false,
     "input": [
      "rainy_day_mean = rainy.mean()\n",
      "rainy_day_mean"
     ],
     "language": "python",
     "metadata": {},
     "outputs": [
      {
       "metadata": {},
       "output_type": "pyout",
       "prompt_number": 24,
       "text": [
        "2043.741690408357"
       ]
      }
     ],
     "prompt_number": 24
    },
    {
     "cell_type": "code",
     "collapsed": false,
     "input": [
      "rainy.median()"
     ],
     "language": "python",
     "metadata": {},
     "outputs": [
      {
       "metadata": {},
       "output_type": "pyout",
       "prompt_number": 25,
       "text": [
        "950.0"
       ]
      }
     ],
     "prompt_number": 25
    },
    {
     "cell_type": "code",
     "collapsed": false,
     "input": [
      "rainy.std()"
     ],
     "language": "python",
     "metadata": {},
     "outputs": [
      {
       "metadata": {},
       "output_type": "pyout",
       "prompt_number": 26,
       "text": [
        "3202.7035776637417"
       ]
      }
     ],
     "prompt_number": 26
    },
    {
     "cell_type": "code",
     "collapsed": false,
     "input": [
      "not_rainy_day_mean = not_rainy.mean()\n",
      "not_rainy_day_mean"
     ],
     "language": "python",
     "metadata": {},
     "outputs": [
      {
       "metadata": {},
       "output_type": "pyout",
       "prompt_number": 27,
       "text": [
        "1871.0115930573395"
       ]
      }
     ],
     "prompt_number": 27
    },
    {
     "cell_type": "code",
     "collapsed": false,
     "input": [
      "not_rainy.median()"
     ],
     "language": "python",
     "metadata": {},
     "outputs": [
      {
       "metadata": {},
       "output_type": "pyout",
       "prompt_number": 28,
       "text": [
        "909.0"
       ]
      }
     ],
     "prompt_number": 28
    },
    {
     "cell_type": "code",
     "collapsed": false,
     "input": [
      "not_rainy.std()"
     ],
     "language": "python",
     "metadata": {},
     "outputs": [
      {
       "metadata": {},
       "output_type": "pyout",
       "prompt_number": 29,
       "text": [
        "2904.0777773058749"
       ]
      }
     ],
     "prompt_number": 29
    },
    {
     "cell_type": "markdown",
     "metadata": {},
     "source": [
      "So based on the Mann Whitney test, there is a statistically significant difference between NYC subway ridership on rainy vs. non-rainy days.  Also, the mean and median for rainy days are larger than the corresponding values for non-rainy days.  Therefore, a simple first-order analysis would conclude that more people ride the subway on rainy days. \n",
      "\n",
      "However, we still have the same \"problem\" of large sample size.  Is it possible that the Mann-Whitney test is being \"overpowered\" by the sample size?  This seems unlikely.  The rainy mean is at least 10% larger than the non-rainy mean.  It appears that there is a small but real difference between the two samples.  "
     ]
    },
    {
     "cell_type": "heading",
     "level": 3,
     "metadata": {},
     "source": [
      "  1.3 Digging Deeper:  Rainy Conditions vs. Not-Rainy Conditions"
     ]
    },
    {
     "cell_type": "markdown",
     "metadata": {},
     "source": [
      "In Reference 1 Mr. Toledo showed that the entries in the \"rain\" column are not accurate indicators of whether it was actually raining when the hourly entries were recorded.  In particular, \"rain\" is set to 1 if rain occurred at any point during the calendar day that the entry was recorded.  The \"conds\" (weather conditions) column appears to be a more accurate indicator of rain at the time the hourly entry data were taken.\n",
      "\n",
      "Let's slice the data into rainy and not rainy using the weather conditions in the \"conds\" column.   "
     ]
    },
    {
     "cell_type": "code",
     "collapsed": false,
     "input": [
      "np.unique(df['conds'].values)"
     ],
     "language": "python",
     "metadata": {},
     "outputs": [
      {
       "metadata": {},
       "output_type": "pyout",
       "prompt_number": 30,
       "text": [
        "array(['Clear', 'Fog', 'Haze', 'Heavy Rain', 'Light Drizzle', 'Light Rain',\n",
        "       'Mist', 'Mostly Cloudy', 'Overcast', 'Partly Cloudy', 'Rain',\n",
        "       'Scattered Clouds'], dtype=object)"
       ]
      }
     ],
     "prompt_number": 30
    },
    {
     "cell_type": "code",
     "collapsed": false,
     "input": [
      "rainy_conds=df[(df['conds']=='Heavy Rain')|(df['conds']=='Light Drizzle')|(df['conds']==\n",
      "                             'Light Rain')|(df['conds']=='Rain')]['ENTRIESn_hourly']\n",
      "not_rainy_conds=df[(df['conds']=='Clear')|(df['conds']=='Fog')|(df['conds']==\n",
      "                             'Haze')|(df['conds']=='Mist')|(df['conds']==\n",
      "                             'Mostly Cloudy')|(df['conds']=='Overcast')|(df['conds']==\n",
      "                             'Partly Cloudy')|(df['conds']=='Scattered Clouds')]['ENTRIESn_hourly']"
     ],
     "language": "python",
     "metadata": {},
     "outputs": [],
     "prompt_number": 31
    },
    {
     "cell_type": "markdown",
     "metadata": {},
     "source": [
      "Check to see that we haven't missed any data."
     ]
    },
    {
     "cell_type": "code",
     "collapsed": false,
     "input": [
      "rainy_conds.sum() + not_rainy_conds.sum() == df.ENTRIESn_hourly.sum()"
     ],
     "language": "python",
     "metadata": {},
     "outputs": [
      {
       "metadata": {},
       "output_type": "pyout",
       "prompt_number": 32,
       "text": [
        "True"
       ]
      }
     ],
     "prompt_number": 32
    },
    {
     "cell_type": "code",
     "collapsed": false,
     "input": [
      "rainy_conds.count() + not_rainy_conds.count() == df.ENTRIESn_hourly.count()"
     ],
     "language": "python",
     "metadata": {},
     "outputs": [
      {
       "metadata": {},
       "output_type": "pyout",
       "prompt_number": 33,
       "text": [
        "True"
       ]
      }
     ],
     "prompt_number": 33
    },
    {
     "cell_type": "markdown",
     "metadata": {},
     "source": [
      "Let's look at the Mann Whitney test and the means and medians using the new slicing of samples.  "
     ]
    },
    {
     "cell_type": "code",
     "collapsed": false,
     "input": [
      "rainy_conds_mean = rainy_conds.mean()\n",
      "rainy_conds_mean"
     ],
     "language": "python",
     "metadata": {},
     "outputs": [
      {
       "metadata": {},
       "output_type": "pyout",
       "prompt_number": 34,
       "text": [
        "1782.4399303540335"
       ]
      }
     ],
     "prompt_number": 34
    },
    {
     "cell_type": "code",
     "collapsed": false,
     "input": [
      "rainy_conds.median()"
     ],
     "language": "python",
     "metadata": {},
     "outputs": [
      {
       "metadata": {},
       "output_type": "pyout",
       "prompt_number": 35,
       "text": [
        "875.0"
       ]
      }
     ],
     "prompt_number": 35
    },
    {
     "cell_type": "code",
     "collapsed": false,
     "input": [
      "rainy_conds.std()"
     ],
     "language": "python",
     "metadata": {},
     "outputs": [
      {
       "metadata": {},
       "output_type": "pyout",
       "prompt_number": 36,
       "text": [
        "2561.1091574588572"
       ]
      }
     ],
     "prompt_number": 36
    },
    {
     "cell_type": "code",
     "collapsed": false,
     "input": [
      "rainy_conds.count()"
     ],
     "language": "python",
     "metadata": {},
     "outputs": [
      {
       "metadata": {},
       "output_type": "pyout",
       "prompt_number": 37,
       "text": [
        "3446"
       ]
      }
     ],
     "prompt_number": 37
    },
    {
     "cell_type": "code",
     "collapsed": false,
     "input": [
      "not_rainy_conds_mean = not_rainy_conds.mean()\n",
      "not_rainy_conds_mean"
     ],
     "language": "python",
     "metadata": {},
     "outputs": [
      {
       "metadata": {},
       "output_type": "pyout",
       "prompt_number": 38,
       "text": [
        "1924.3770126944003"
       ]
      }
     ],
     "prompt_number": 38
    },
    {
     "cell_type": "code",
     "collapsed": false,
     "input": [
      "not_rainy_conds.median()"
     ],
     "language": "python",
     "metadata": {},
     "outputs": [
      {
       "metadata": {},
       "output_type": "pyout",
       "prompt_number": 39,
       "text": [
        "923.0"
       ]
      }
     ],
     "prompt_number": 39
    },
    {
     "cell_type": "code",
     "collapsed": false,
     "input": [
      "not_rainy_conds.std()"
     ],
     "language": "python",
     "metadata": {},
     "outputs": [
      {
       "metadata": {},
       "output_type": "pyout",
       "prompt_number": 40,
       "text": [
        "3014.9821678090293"
       ]
      }
     ],
     "prompt_number": 40
    },
    {
     "cell_type": "code",
     "collapsed": false,
     "input": [
      "not_rainy_conds.count()"
     ],
     "language": "python",
     "metadata": {},
     "outputs": [
      {
       "metadata": {},
       "output_type": "pyout",
       "prompt_number": 41,
       "text": [
        "36394"
       ]
      }
     ],
     "prompt_number": 41
    },
    {
     "cell_type": "code",
     "collapsed": false,
     "input": [
      "U_conds, p_conds = scipy.stats.mannwhitneyu(rainy_conds, not_rainy_conds)\n",
      "2*p_conds"
     ],
     "language": "python",
     "metadata": {},
     "outputs": [
      {
       "metadata": {},
       "output_type": "pyout",
       "prompt_number": 42,
       "text": [
        "0.059778010311697091"
       ]
      }
     ],
     "prompt_number": 42
    },
    {
     "cell_type": "markdown",
     "metadata": {},
     "source": [
      "Here, the not-rainy sample mean is larger than the rainy sample mean.  Furthermore, the 2-sided p-value is about 0.06.  This is a surpising result.  When we slice the data using the weather conditions in the \"conds\" column, we conclude that, at the 0.05 confidence level, there is insufficient evidence to reject the null hypothesis that the two samples come from the same population.  \n",
      "\n",
      "Note that the not-rainy sample is an order of magnitude larger than the rainy sample.  The large difference in sample size reduces the power of the test.  On the other hand, even the smaller sample still has over 3000 data points.  "
     ]
    },
    {
     "cell_type": "heading",
     "level": 3,
     "metadata": {},
     "source": [
      "1.4  Isolating the Effect of Rain from Temporal Effects"
     ]
    },
    {
     "cell_type": "markdown",
     "metadata": {},
     "source": [
      "There is a possibility that the data are biased, i.e., the rain could be occuring at times when ridership is low anyway.  In order to account for the temporal effects, we can compare samples taken at the same time of day.  We will take out the weekends since we would expect ridership to be lower on weekends and we want isolate the effect of rain on ridership.\n",
      "\n",
      "We will start with 12 pm data, since that seems to be the time of day with highest ridership."
     ]
    },
    {
     "cell_type": "code",
     "collapsed": false,
     "input": [
      "rainy_conds_weekdays_12=df[((df['weekday']==1)&(df['hour']==12))&((df['conds']=='Heavy Rain')|(df['conds']==\n",
      "                            'Light Drizzle')|(df['conds']=='Light Rain')|(df['conds']==\n",
      "                            'Rain'))]['ENTRIESn_hourly']\n",
      "not_rainy_conds_weekdays_12=df[((df['weekday']==1)&(df['hour']==12))&((df['conds']=='Clear')|(df['conds']==\n",
      "                             'Fog')|(df['conds']=='Haze')|(df['conds']=='Mist')|(df['conds']==\n",
      "                             'Mostly Cloudy')|(df['conds']=='Overcast')|(df['conds']==\n",
      "                             'Partly Cloudy')|(df['conds']=='Scattered Clouds'))]['ENTRIESn_hourly']"
     ],
     "language": "python",
     "metadata": {},
     "outputs": [],
     "prompt_number": 43
    },
    {
     "cell_type": "code",
     "collapsed": false,
     "input": [
      "rainy_conds_weekdays_12.count()"
     ],
     "language": "python",
     "metadata": {},
     "outputs": [
      {
       "metadata": {},
       "output_type": "pyout",
       "prompt_number": 44,
       "text": [
        "615"
       ]
      }
     ],
     "prompt_number": 44
    },
    {
     "cell_type": "code",
     "collapsed": false,
     "input": [
      "not_rainy_conds_weekdays_12.count()"
     ],
     "language": "python",
     "metadata": {},
     "outputs": [
      {
       "metadata": {},
       "output_type": "pyout",
       "prompt_number": 45,
       "text": [
        "4117"
       ]
      }
     ],
     "prompt_number": 45
    },
    {
     "cell_type": "code",
     "collapsed": false,
     "input": [
      "rainy_conds_weekdays_12.mean()"
     ],
     "language": "python",
     "metadata": {},
     "outputs": [
      {
       "metadata": {},
       "output_type": "pyout",
       "prompt_number": 46,
       "text": [
        "3849.7186991869917"
       ]
      }
     ],
     "prompt_number": 46
    },
    {
     "cell_type": "code",
     "collapsed": false,
     "input": [
      "not_rainy_conds_weekdays_12.mean()"
     ],
     "language": "python",
     "metadata": {},
     "outputs": [
      {
       "metadata": {},
       "output_type": "pyout",
       "prompt_number": 47,
       "text": [
        "3790.9970852562546"
       ]
      }
     ],
     "prompt_number": 47
    },
    {
     "cell_type": "code",
     "collapsed": false,
     "input": [
      "scipy.stats.mannwhitneyu(rainy_conds_weekdays_12, not_rainy_conds_weekdays_12)"
     ],
     "language": "python",
     "metadata": {},
     "outputs": [
      {
       "metadata": {},
       "output_type": "pyout",
       "prompt_number": 48,
       "text": [
        "(1249230.0, 0.29807473971397358)"
       ]
      }
     ],
     "prompt_number": 48
    },
    {
     "cell_type": "markdown",
     "metadata": {},
     "source": [
      "2-sided p = 2*(one-sided p) > 0.05.  So, at the 0.05 confidence level, there is insufficient evidence to reject the null hypothesis that the two samples come from the same population.  Let's take a look at other times of day. "
     ]
    },
    {
     "cell_type": "code",
     "collapsed": false,
     "input": [
      "rainy_0=df[((df['weekday']==1)&(df['hour']==0))&((df['conds']=='Heavy Rain')|(df['conds']==\n",
      "                            'Light Drizzle')|(df['conds']=='Light Rain')|(df['conds']==\n",
      "                            'Rain'))]['ENTRIESn_hourly']\n",
      "not_rainy_0=df[((df['weekday']==1)&(df['hour']==0))&((df['conds']=='Clear')|(df['conds']==\n",
      "                             'Fog')|(df['conds']=='Haze')|(df['conds']=='Mist')|(df['conds']==\n",
      "                             'Mostly Cloudy')|(df['conds']=='Overcast')|(df['conds']==\n",
      "                             'Partly Cloudy')|(df['conds']=='Scattered Clouds'))]['ENTRIESn_hourly']\n",
      "scipy.stats.mannwhitneyu(rainy_0, not_rainy_0)"
     ],
     "language": "python",
     "metadata": {},
     "outputs": [
      {
       "metadata": {},
       "output_type": "pyout",
       "prompt_number": 49,
       "text": [
        "(1033817.0, 4.9630934460638823e-05)"
       ]
      }
     ],
     "prompt_number": 49
    },
    {
     "cell_type": "code",
     "collapsed": false,
     "input": [
      "rainy_0.mean()"
     ],
     "language": "python",
     "metadata": {},
     "outputs": [
      {
       "metadata": {},
       "output_type": "pyout",
       "prompt_number": 50,
       "text": [
        "1775.0310786106033"
       ]
      }
     ],
     "prompt_number": 50
    },
    {
     "cell_type": "code",
     "collapsed": false,
     "input": [
      "not_rainy_0.mean()"
     ],
     "language": "python",
     "metadata": {},
     "outputs": [
      {
       "metadata": {},
       "output_type": "pyout",
       "prompt_number": 51,
       "text": [
        "1367.41567695962"
       ]
      }
     ],
     "prompt_number": 51
    },
    {
     "cell_type": "code",
     "collapsed": false,
     "input": [
      "rainy_4=df[((df['weekday']==1)&(df['hour']==4))&((df['conds']=='Heavy Rain')|(df['conds']==\n",
      "                            'Light Drizzle')|(df['conds']=='Light Rain')|(df['conds']==\n",
      "                            'Rain'))]['ENTRIESn_hourly']\n",
      "not_rainy_4=df[((df['weekday']==1)&(df['hour']==4))&((df['conds']=='Clear')|(df['conds']==\n",
      "                             'Fog')|(df['conds']=='Haze')|(df['conds']=='Mist')|(df['conds']==\n",
      "                             'Mostly Cloudy')|(df['conds']=='Overcast')|(df['conds']==\n",
      "                             'Partly Cloudy')|(df['conds']=='Scattered Clouds'))]['ENTRIESn_hourly']\n",
      "scipy.stats.mannwhitneyu(rainy_4, not_rainy_4)"
     ],
     "language": "python",
     "metadata": {},
     "outputs": [
      {
       "metadata": {},
       "output_type": "pyout",
       "prompt_number": 52,
       "text": [
        "(682682.5, 0.065279928356425557)"
       ]
      }
     ],
     "prompt_number": 52
    },
    {
     "cell_type": "code",
     "collapsed": false,
     "input": [
      "rainy_4.mean()"
     ],
     "language": "python",
     "metadata": {},
     "outputs": [
      {
       "metadata": {},
       "output_type": "pyout",
       "prompt_number": 53,
       "text": [
        "266.02777777777777"
       ]
      }
     ],
     "prompt_number": 53
    },
    {
     "cell_type": "code",
     "collapsed": false,
     "input": [
      "not_rainy_4.mean()"
     ],
     "language": "python",
     "metadata": {},
     "outputs": [
      {
       "metadata": {},
       "output_type": "pyout",
       "prompt_number": 54,
       "text": [
        "311.49177372098262"
       ]
      }
     ],
     "prompt_number": 54
    },
    {
     "cell_type": "code",
     "collapsed": false,
     "input": [
      "rainy_4.count()"
     ],
     "language": "python",
     "metadata": {},
     "outputs": [
      {
       "metadata": {},
       "output_type": "pyout",
       "prompt_number": 55,
       "text": [
        "324"
       ]
      }
     ],
     "prompt_number": 55
    },
    {
     "cell_type": "code",
     "collapsed": false,
     "input": [
      "not_rainy_4.count()"
     ],
     "language": "python",
     "metadata": {},
     "outputs": [
      {
       "metadata": {},
       "output_type": "pyout",
       "prompt_number": 56,
       "text": [
        "4437"
       ]
      }
     ],
     "prompt_number": 56
    },
    {
     "cell_type": "code",
     "collapsed": false,
     "input": [
      "rainy_8=df[((df['weekday']==1)&(df['hour']==8))&((df['conds']=='Heavy Rain')|(df['conds']==\n",
      "                            'Light Drizzle')|(df['conds']=='Light Rain')|(df['conds']==\n",
      "                            'Rain'))]['ENTRIESn_hourly']\n",
      "not_rainy_8=df[((df['weekday']==1)&(df['hour']==8))&((df['conds']=='Clear')|(df['conds']==\n",
      "                             'Fog')|(df['conds']=='Haze')|(df['conds']=='Mist')|(df['conds']==\n",
      "                             'Mostly Cloudy')|(df['conds']=='Overcast')|(df['conds']==\n",
      "                             'Partly Cloudy')|(df['conds']=='Scattered Clouds'))]['ENTRIESn_hourly']\n",
      "scipy.stats.mannwhitneyu(rainy_8, not_rainy_8)"
     ],
     "language": "python",
     "metadata": {},
     "outputs": [
      {
       "metadata": {},
       "output_type": "pyout",
       "prompt_number": 57,
       "text": [
        "(1023344.5, 0.10696975351352983)"
       ]
      }
     ],
     "prompt_number": 57
    },
    {
     "cell_type": "code",
     "collapsed": false,
     "input": [
      "rainy_8.mean()"
     ],
     "language": "python",
     "metadata": {},
     "outputs": [
      {
       "metadata": {},
       "output_type": "pyout",
       "prompt_number": 58,
       "text": [
        "1156.095541401274"
       ]
      }
     ],
     "prompt_number": 58
    },
    {
     "cell_type": "code",
     "collapsed": false,
     "input": [
      "not_rainy_8.mean()"
     ],
     "language": "python",
     "metadata": {},
     "outputs": [
      {
       "metadata": {},
       "output_type": "pyout",
       "prompt_number": 59,
       "text": [
        "1117.1453626634959"
       ]
      }
     ],
     "prompt_number": 59
    },
    {
     "cell_type": "code",
     "collapsed": false,
     "input": [
      "rainy_8.count()"
     ],
     "language": "python",
     "metadata": {},
     "outputs": [
      {
       "metadata": {},
       "output_type": "pyout",
       "prompt_number": 60,
       "text": [
        "628"
       ]
      }
     ],
     "prompt_number": 60
    },
    {
     "cell_type": "code",
     "collapsed": false,
     "input": [
      "not_rainy_8.count()"
     ],
     "language": "python",
     "metadata": {},
     "outputs": [
      {
       "metadata": {},
       "output_type": "pyout",
       "prompt_number": 61,
       "text": [
        "3364"
       ]
      }
     ],
     "prompt_number": 61
    },
    {
     "cell_type": "code",
     "collapsed": false,
     "input": [
      "rainy_16=df[((df['weekday']==1)&(df['hour']==16))&((df['conds']=='Heavy Rain')|(df['conds']==\n",
      "                            'Light Drizzle')|(df['conds']=='Light Rain')|(df['conds']==\n",
      "                            'Rain'))]['ENTRIESn_hourly']\n",
      "not_rainy_16=df[((df['weekday']==1)&(df['hour']==16))&((df['conds']=='Clear')|(df['conds']==\n",
      "                             'Fog')|(df['conds']=='Haze')|(df['conds']=='Mist')|(df['conds']==\n",
      "                             'Mostly Cloudy')|(df['conds']=='Overcast')|(df['conds']==\n",
      "                             'Partly Cloudy')|(df['conds']=='Scattered Clouds'))]['ENTRIESn_hourly']\n",
      "scipy.stats.mannwhitneyu(rainy_16, not_rainy_16)"
     ],
     "language": "python",
     "metadata": {},
     "outputs": [
      {
       "metadata": {},
       "output_type": "pyout",
       "prompt_number": 62,
       "text": [
        "(1122020.0, 0.023499840340381419)"
       ]
      }
     ],
     "prompt_number": 62
    },
    {
     "cell_type": "code",
     "collapsed": false,
     "input": [
      "rainy_16.mean()"
     ],
     "language": "python",
     "metadata": {},
     "outputs": [
      {
       "metadata": {},
       "output_type": "pyout",
       "prompt_number": 63,
       "text": [
        "2475.7822299651566"
       ]
      }
     ],
     "prompt_number": 63
    },
    {
     "cell_type": "code",
     "collapsed": false,
     "input": [
      "not_rainy_16.mean()"
     ],
     "language": "python",
     "metadata": {},
     "outputs": [
      {
       "metadata": {},
       "output_type": "pyout",
       "prompt_number": 64,
       "text": [
        "2629.7004854368934"
       ]
      }
     ],
     "prompt_number": 64
    },
    {
     "cell_type": "code",
     "collapsed": false,
     "input": [
      "rainy_16.count()"
     ],
     "language": "python",
     "metadata": {},
     "outputs": [
      {
       "metadata": {},
       "output_type": "pyout",
       "prompt_number": 65,
       "text": [
        "574"
       ]
      }
     ],
     "prompt_number": 65
    },
    {
     "cell_type": "code",
     "collapsed": false,
     "input": [
      "not_rainy_16.count()"
     ],
     "language": "python",
     "metadata": {},
     "outputs": [
      {
       "metadata": {},
       "output_type": "pyout",
       "prompt_number": 66,
       "text": [
        "4120"
       ]
      }
     ],
     "prompt_number": 66
    },
    {
     "cell_type": "code",
     "collapsed": false,
     "input": [
      "rainy_20=df[((df['weekday']==1)&(df['hour']==20))&((df['conds']=='Heavy Rain')|(df['conds']==\n",
      "                            'Light Drizzle')|(df['conds']=='Light Rain')|(df['conds']==\n",
      "                            'Rain'))]['ENTRIESn_hourly']\n",
      "not_rainy_20=df[((df['weekday']==1)&(df['hour']==20))&((df['conds']=='Clear')|(df['conds']==\n",
      "                             'Fog')|(df['conds']=='Haze')|(df['conds']=='Mist')|(df['conds']==\n",
      "                             'Mostly Cloudy')|(df['conds']=='Overcast')|(df['conds']==\n",
      "                             'Partly Cloudy')|(df['conds']=='Scattered Clouds'))]['ENTRIESn_hourly']\n",
      "scipy.stats.mannwhitneyu(rainy_20, not_rainy_20)"
     ],
     "language": "python",
     "metadata": {},
     "outputs": [
      {
       "metadata": {},
       "output_type": "pyout",
       "prompt_number": 67,
       "text": [
        "(153530.5, 1.0084742248442939e-11)"
       ]
      }
     ],
     "prompt_number": 67
    },
    {
     "cell_type": "code",
     "collapsed": false,
     "input": [
      "rainy_20.mean()"
     ],
     "language": "python",
     "metadata": {},
     "outputs": [
      {
       "metadata": {},
       "output_type": "pyout",
       "prompt_number": 68,
       "text": [
        "1523.6542056074766"
       ]
      }
     ],
     "prompt_number": 68
    },
    {
     "cell_type": "code",
     "collapsed": false,
     "input": [
      "not_rainy_20.mean()"
     ],
     "language": "python",
     "metadata": {},
     "outputs": [
      {
       "metadata": {},
       "output_type": "pyout",
       "prompt_number": 69,
       "text": [
        "3984.1262451277607"
       ]
      }
     ],
     "prompt_number": 69
    },
    {
     "cell_type": "code",
     "collapsed": false,
     "input": [
      "rainy_20.count()"
     ],
     "language": "python",
     "metadata": {},
     "outputs": [
      {
       "metadata": {},
       "output_type": "pyout",
       "prompt_number": 70,
       "text": [
        "107"
       ]
      }
     ],
     "prompt_number": 70
    },
    {
     "cell_type": "code",
     "collapsed": false,
     "input": [
      "not_rainy_20.count()"
     ],
     "language": "python",
     "metadata": {},
     "outputs": [
      {
       "metadata": {},
       "output_type": "pyout",
       "prompt_number": 71,
       "text": [
        "4618"
       ]
      }
     ],
     "prompt_number": 71
    },
    {
     "cell_type": "markdown",
     "metadata": {},
     "source": [
      "So, when we break the data down by weather conditions (\"conds\" column) and time, we get the following results:\n",
      "\n",
      "At hour 0, there is a statistically significant difference between rainy and not rainy conditions and more people ride the subway when it is raining.\n",
      "\n",
      "At hours 4, 8 and 12, there is no statistically significant difference between rainy and not rainy conditions.  Note that the sample sizes for rainy vs. not rainy are very different for all cases.  Therefore the power of the test, i.e., its ability to detect a real difference, is diminished.  However, given the total sample size, this is probably a valid result.  \n",
      "\n",
      "At hours 16 and 20, there is a statistically significant difference between rainy and not rainy conditions and more people ride the subway when it is NOT raining.  As noted above, the sample sizes are very different, but the Mann Whitney test should still return a valid result (Reference 8).  "
     ]
    },
    {
     "cell_type": "heading",
     "level": 3,
     "metadata": {},
     "source": [
      "1.5 Answers to Short Questions"
     ]
    },
    {
     "cell_type": "heading",
     "level": 4,
     "metadata": {},
     "source": [
      "1.5.1  Which statistical test did you use to analyze the NYC subway data? Did you use a one-tail or a two-tail P value? What is the null hypothesis? What is your p-critical value?"
     ]
    },
    {
     "cell_type": "markdown",
     "metadata": {},
     "source": [
      "I ran a Mann-Whitney test to determine whether the rainy and non-rainy samples (based on the 'rain' column value) came from the same population.  I used a non-parametric test because the samples were not normal.  I used a two-tail P value.  The null hypothesis was that the rainy and non-rainy samples came from the same population.  The p-critical value was 0.05.\n",
      "\n",
      "I also ran Mann-Whitney on rainy and non-rainy samples based on the 'conds' column.  The P-value, null hypothesis and p-critical value were the same as in the initial test.  \n",
      "\n",
      "I then ran Mann-Whitney on rainy and non-rainy samples for weekdays with matching times of day.  I did this in order to isolate the effect of rain from the effect of temporal variations in ridership.  The P-value, null hypothesis and p-critical value were the same as in the initial test.  "
     ]
    },
    {
     "cell_type": "heading",
     "level": 4,
     "metadata": {},
     "source": [
      "1.5.2  Why is this statistical test applicable to the dataset? In particular, consider the assumptions that the test is making about the distribution of ridership in the two samples."
     ]
    },
    {
     "cell_type": "markdown",
     "metadata": {},
     "source": [
      "By observation of the histograms for the rainy and not rainy samples, the data are not normally distributed.  Therefore using a non-parametric test is appropriate.  "
     ]
    },
    {
     "cell_type": "heading",
     "level": 4,
     "metadata": {},
     "source": [
      "1.5.3  What results did you get from this statistical test? These should include the following numerical values: p-values, as well as the means for each of the two samples under test."
     ]
    },
    {
     "cell_type": "markdown",
     "metadata": {},
     "source": [
      "Based on the 'rain' column, the 2-sided p-value was "
     ]
    },
    {
     "cell_type": "code",
     "collapsed": false,
     "input": [
      "2*p_day"
     ],
     "language": "python",
     "metadata": {},
     "outputs": [
      {
       "metadata": {},
       "output_type": "pyout",
       "prompt_number": 72,
       "text": [
        "1.4683447201900585e-05"
       ]
      }
     ],
     "prompt_number": 72
    },
    {
     "cell_type": "markdown",
     "metadata": {},
     "source": [
      "Rainy day mean is "
     ]
    },
    {
     "cell_type": "code",
     "collapsed": false,
     "input": [
      "rainy_day_mean"
     ],
     "language": "python",
     "metadata": {},
     "outputs": [
      {
       "metadata": {},
       "output_type": "pyout",
       "prompt_number": 73,
       "text": [
        "2043.741690408357"
       ]
      }
     ],
     "prompt_number": 73
    },
    {
     "cell_type": "markdown",
     "metadata": {},
     "source": [
      "and not rainy day mean is "
     ]
    },
    {
     "cell_type": "code",
     "collapsed": false,
     "input": [
      "not_rainy_day_mean"
     ],
     "language": "python",
     "metadata": {},
     "outputs": [
      {
       "metadata": {},
       "output_type": "pyout",
       "prompt_number": 74,
       "text": [
        "1871.0115930573395"
       ]
      }
     ],
     "prompt_number": 74
    },
    {
     "cell_type": "markdown",
     "metadata": {},
     "source": [
      "Based on the 'conds' column, the 2-sided p-value is"
     ]
    },
    {
     "cell_type": "code",
     "collapsed": false,
     "input": [
      "2*p_conds"
     ],
     "language": "python",
     "metadata": {},
     "outputs": [
      {
       "metadata": {},
       "output_type": "pyout",
       "prompt_number": 75,
       "text": [
        "0.059778010311697091"
       ]
      }
     ],
     "prompt_number": 75
    },
    {
     "cell_type": "markdown",
     "metadata": {},
     "source": [
      "Rainy conds mean is"
     ]
    },
    {
     "cell_type": "code",
     "collapsed": false,
     "input": [
      "rainy_conds_mean"
     ],
     "language": "python",
     "metadata": {},
     "outputs": [
      {
       "metadata": {},
       "output_type": "pyout",
       "prompt_number": 76,
       "text": [
        "1782.4399303540335"
       ]
      }
     ],
     "prompt_number": 76
    },
    {
     "cell_type": "markdown",
     "metadata": {},
     "source": [
      "and not rainy conds mean is"
     ]
    },
    {
     "cell_type": "code",
     "collapsed": false,
     "input": [
      "not_rainy_conds_mean"
     ],
     "language": "python",
     "metadata": {},
     "outputs": [
      {
       "metadata": {},
       "output_type": "pyout",
       "prompt_number": 77,
       "text": [
        "1924.3770126944003"
       ]
      }
     ],
     "prompt_number": 77
    },
    {
     "cell_type": "markdown",
     "metadata": {},
     "source": [
      "See section 1.4 for results of splitting the 'conds' samples by hour.  The results in these cases are mixed. "
     ]
    },
    {
     "cell_type": "heading",
     "level": 4,
     "metadata": {},
     "source": [
      "1.5.4  What is the significance and interpretation of these results?"
     ]
    },
    {
     "cell_type": "markdown",
     "metadata": {},
     "source": [
      "The 'rain' column has the value 1 when there is any rain at all in during the day when the measurements were taken.  Based on test results, we reject the null hypothesis that rainy and not-rainy day samples are taken from the same distribution.  The mean of the rainy day sample is larger than the mean of the not-rainy day sample.  The interpretation is that ridership increases on days when there is rain.  \n",
      "\n",
      "The 'conds' (weather conditions) column seems to be a more accurate indicator of whether it was raining at the time when the turnstile entries were measured.  Based on test results, there is insufficient evidence to reject the null hupothesis that rainy and not-rainy condition samples are taken from the same distribution.  The interpretation is that rain does not make a significant difference in ridership at the time the measurements were obtained.  \n",
      "\n",
      "When the 'conds' samples are split by hour, the results are mixed.  At some times, ridership increases with rainy conditions, at some times ridership decreases, and at some times there is no significant difference.  "
     ]
    },
    {
     "cell_type": "heading",
     "level": 2,
     "metadata": {},
     "source": [
      "2.  Linear Regression"
     ]
    },
    {
     "cell_type": "markdown",
     "metadata": {},
     "source": [
      "In this section, we will take a look at the hourly entries as a time series and perform linear regression to develop models to predict ridership as a function of different variables.  \n",
      "\n",
      "<b>Note that specific answers to short questions are included in section 2.4 below.</b>"
     ]
    },
    {
     "cell_type": "heading",
     "level": 3,
     "metadata": {},
     "source": [
      "2.1 Time Series"
     ]
    },
    {
     "cell_type": "markdown",
     "metadata": {},
     "source": [
      "The NYC subway data is an example of a time series, i.e., a sequence of measurements taken over a period of time.  Let's add some new columns to make regression and plotting easier.  I am using the lambda function approach used by Mr. Toledo in Reference 1.  "
     ]
    },
    {
     "cell_type": "code",
     "collapsed": false,
     "input": [
      "dfplot = df\n",
      "dfplot['dateTime'] = dfplot.apply(\n",
      "    lambda r: pd.datetime.strptime(r['datetime'], '%Y-%m-%d %H:%M:%S'), axis=1)\n",
      "dfplot = dfplot.set_index('dateTime', drop=False)\n",
      "dfplot['day'] = dfplot.index.day\n",
      "dfplot['hour_week'] = dfplot.day_week * 24. + dfplot.hour\n",
      "dfplot['hour_month'] = (dfplot.day-1)*24. + dfplot.hour"
     ],
     "language": "python",
     "metadata": {},
     "outputs": [],
     "prompt_number": 78
    },
    {
     "cell_type": "markdown",
     "metadata": {},
     "source": [
      "Let's see what the ridership looks like as a function of time."
     ]
    },
    {
     "cell_type": "code",
     "collapsed": false,
     "input": [
      "dfplot_hour_month = dfplot.groupby('hour_month', as_index=False).sum()\n",
      "ggplot(dfplot_hour_month, aes(x='hour_month', \n",
      "           y='ENTRIESn_hourly')) + geom_line(stat='identity') + ggtitle(\n",
      "            'Sum of Hourly Entries by Hour of Month')"
     ],
     "language": "python",
     "metadata": {},
     "outputs": [
      {
       "metadata": {},
       "output_type": "display_data",
       "png": "[encoded data removed]",
       "text": [
        "<matplotlib.figure.Figure at 0x1115dbc90>"
       ]
      },
      {
       "metadata": {},
       "output_type": "pyout",
       "prompt_number": 79,
       "text": [
        "<ggplot: (287041069)>"
       ]
      }
     ],
     "prompt_number": 79
    },
    {
     "cell_type": "markdown",
     "metadata": {},
     "source": [
      "Do a checksum to make sure we didn't lose any day "
     ]
    },
    {
     "cell_type": "code",
     "collapsed": false,
     "input": [
      "dfplot_hour_month['ENTRIESn_hourly'].sum() == df.ENTRIESn_hourly.sum()"
     ],
     "language": "python",
     "metadata": {},
     "outputs": [
      {
       "metadata": {},
       "output_type": "pyout",
       "prompt_number": 80,
       "text": [
        "True"
       ]
      }
     ],
     "prompt_number": 80
    },
    {
     "cell_type": "markdown",
     "metadata": {},
     "source": [
      "By observation, it appears that entries per hour is a periodic function of time.  In particular, hour of day and day of week seem to be significant factors.  "
     ]
    },
    {
     "cell_type": "heading",
     "level": 3,
     "metadata": {},
     "source": [
      "2.2  Linear Regression in the Time Domain:  Raw Data"
     ]
    },
    {
     "cell_type": "markdown",
     "metadata": {},
     "source": [
      "   Since it appears that ridership is a function of time, let's try fitting a simple linear model using the hour and weekday features using OLS.  We will also include the 'rain' column as a feature."
     ]
    },
    {
     "cell_type": "code",
     "collapsed": false,
     "input": [
      "Y = df['ENTRIESn_hourly']\n",
      "X = df[['hour','weekday','rain']]\n",
      "dummy_units = pd.get_dummies(df['UNIT'], prefix='unit')"
     ],
     "language": "python",
     "metadata": {},
     "outputs": [],
     "prompt_number": 81
    },
    {
     "cell_type": "code",
     "collapsed": false,
     "input": [
      "X.shape"
     ],
     "language": "python",
     "metadata": {},
     "outputs": [
      {
       "metadata": {},
       "output_type": "pyout",
       "prompt_number": 82,
       "text": [
        "(39840, 3)"
       ]
      }
     ],
     "prompt_number": 82
    },
    {
     "cell_type": "code",
     "collapsed": false,
     "input": [
      "dummy_units.shape"
     ],
     "language": "python",
     "metadata": {},
     "outputs": [
      {
       "metadata": {},
       "output_type": "pyout",
       "prompt_number": 83,
       "text": [
        "(39840, 240)"
       ]
      }
     ],
     "prompt_number": 83
    },
    {
     "cell_type": "markdown",
     "metadata": {},
     "source": [
      "I will use concat instead of join because these are large matrices.  I tried join and it takes a long time on my local machine.  "
     ]
    },
    {
     "cell_type": "code",
     "collapsed": false,
     "input": [
      "X = pd.concat([X, dummy_units], axis=1)"
     ],
     "language": "python",
     "metadata": {},
     "outputs": [],
     "prompt_number": 84
    },
    {
     "cell_type": "code",
     "collapsed": false,
     "input": [
      "X = sm.add_constant(X)\n",
      "model = sm.OLS(Y,X)\n",
      "results = model.fit(method='qr')\n",
      "prediction = results.predict(exog=X)\n",
      "results.rsquared"
     ],
     "language": "python",
     "metadata": {},
     "outputs": [
      {
       "metadata": {},
       "output_type": "pyout",
       "prompt_number": 85,
       "text": [
        "0.48708747120241269"
       ]
      }
     ],
     "prompt_number": 85
    },
    {
     "cell_type": "markdown",
     "metadata": {},
     "source": [
      "The coefficient of determination (R squared) is not very good.  At this point we are trying to model the entire data set, i.e., ENTRIESn_hourly for each row as a function of hour, weekday and UNIT.    "
     ]
    },
    {
     "cell_type": "heading",
     "level": 3,
     "metadata": {},
     "source": [
      "2.3  Linear Regression in the Time Domain:  Data Aggregated by Time"
     ]
    },
    {
     "cell_type": "markdown",
     "metadata": {},
     "source": [
      "Maybe we could get a better fit of overall ridership if we just looked at the TOTAL ridership at each point in time.  We'll use groupby to aggregate the ridership data by time stamp."
     ]
    },
    {
     "cell_type": "code",
     "collapsed": false,
     "input": [
      "df_day = df.groupby(['datetime'], as_index=False).sum()\n",
      "df_day['dateTime'] = df_day.apply(\n",
      "    lambda r: pd.datetime.strptime(r['datetime'], '%Y-%m-%d %H:%M:%S'), axis=1)\n",
      "df_day = df_day.set_index('dateTime', drop=False)\n",
      "df_day['day'] = df_day.index.day\n",
      "df_day['day_week'] = df_day.index.weekday\n",
      "df_day['hour'] = df_day.index.hour\n",
      "df_day['hour_month'] = (df_day.day-1)*24. + df_day.hour"
     ],
     "language": "python",
     "metadata": {},
     "outputs": [],
     "prompt_number": 86
    },
    {
     "cell_type": "markdown",
     "metadata": {},
     "source": [
      "We need to reconstruct weekday for input to the OLS."
     ]
    },
    {
     "cell_type": "code",
     "collapsed": false,
     "input": [
      "df_day['weekday'] = 1\n",
      "df_day.weekday[df_day.day_week==5] = 0\n",
      "df_day.weekday[df_day.day_week==6] = 0"
     ],
     "language": "python",
     "metadata": {},
     "outputs": [],
     "prompt_number": 87
    },
    {
     "cell_type": "markdown",
     "metadata": {},
     "source": [
      "Use checksum to make sure we didn't lose any data."
     ]
    },
    {
     "cell_type": "code",
     "collapsed": false,
     "input": [
      "df_day['ENTRIESn_hourly'].sum() == df['ENTRIESn_hourly'].sum()"
     ],
     "language": "python",
     "metadata": {},
     "outputs": [
      {
       "metadata": {},
       "output_type": "pyout",
       "prompt_number": 88,
       "text": [
        "True"
       ]
      }
     ],
     "prompt_number": 88
    },
    {
     "cell_type": "code",
     "collapsed": false,
     "input": [
      "df_day[df_day['weekday']==0]['ENTRIESn_hourly'].sum() == df[df['weekday']==0]['ENTRIESn_hourly'].sum()"
     ],
     "language": "python",
     "metadata": {},
     "outputs": [
      {
       "metadata": {},
       "output_type": "pyout",
       "prompt_number": 89,
       "text": [
        "True"
       ]
      }
     ],
     "prompt_number": 89
    },
    {
     "cell_type": "markdown",
     "metadata": {},
     "source": [
      "Do a least squares fit on data aggregated by time.  We don't need to add dummy variables this time, and this time we will leave out the 'rain' feature."
     ]
    },
    {
     "cell_type": "code",
     "collapsed": false,
     "input": [
      "Y1 = df_day['ENTRIESn_hourly']\n",
      "X1 = df_day[['hour','weekday']]\n",
      "X1 = sm.add_constant(X1)\n",
      "model1 = sm.OLS(Y1,X1)\n",
      "results1 = model1.fit(method='qr')\n",
      "prediction1 = results1.predict(exog=X1)\n",
      "results1.rsquared"
     ],
     "language": "python",
     "metadata": {},
     "outputs": [
      {
       "metadata": {},
       "output_type": "pyout",
       "prompt_number": 90,
       "text": [
        "0.55557127781072146"
       ]
      }
     ],
     "prompt_number": 90
    },
    {
     "cell_type": "markdown",
     "metadata": {},
     "source": [
      "R squared is slightly better when we look at aggregated data, but not much.  "
     ]
    },
    {
     "cell_type": "heading",
     "level": 3,
     "metadata": {},
     "source": [
      "2.3 Frequency Domain Linear Regression"
     ]
    },
    {
     "cell_type": "markdown",
     "metadata": {},
     "source": [
      "One approach to creating a linear regression model for a time series is to use Fourier analysis.  The basic idea behind Fourier analysis is to represent a complex periodic function as a sum of sine and cosine terms.  To do this in the time domain, we would have to pick frequencies for the sine and cosine terms and solve the normal equations to get a least squares fit.  However, it is much easier to work with the data in the frequency domain by using a discrete Fourier transform, or DFT.  The DFT transforms our data from a series of values in time into a set of frequencies.  \n"
     ]
    },
    {
     "cell_type": "markdown",
     "metadata": {},
     "source": [
      "Now run a fast Fourier transform using the Fourier transform library in Numpy.  First, we subtract the large mean value to make it easier to see signficant oscillations. \n",
      "\n",
      "Later we will want to plot frequencies in cycles per day.  There are 6 samples per day (1 sample every 4 hours).  This sets the second argument in rfftfreq.  "
     ]
    },
    {
     "cell_type": "code",
     "collapsed": false,
     "input": [
      "data_mean = df_day['ENTRIESn_hourly'].mean()\n",
      "data_in = df_day['ENTRIESn_hourly'] - data_mean\n",
      "data_fft = np.fft.rfft(data_in)\n",
      "n = data_in.count()\n",
      "freq = np.fft.rfftfreq(data_in.count(), 1.0/6.0)\n",
      "df_power = pd.DataFrame(np.abs(data_fft)**2)\n",
      "df_power['b'] = freq\n",
      "df_power.columns = ['power','cycles_per_day']"
     ],
     "language": "python",
     "metadata": {},
     "outputs": [],
     "prompt_number": 91
    },
    {
     "cell_type": "markdown",
     "metadata": {},
     "source": [
      "The power shows how much a particular frequency term contributes to the variance.  Sort the power dataframe and see which frequencies contribute the most to the variance.  "
     ]
    },
    {
     "cell_type": "code",
     "collapsed": false,
     "input": [
      "df_power.sort('power', ascending=False).head(n=10)"
     ],
     "language": "python",
     "metadata": {},
     "outputs": [
      {
       "html": [
        "<div style=\"max-height:1000px;max-width:1500px;overflow:auto;\">\n",
        "<table border=\"1\" class=\"dataframe\">\n",
        "  <thead>\n",
        "    <tr style=\"text-align: right;\">\n",
        "      <th></th>\n",
        "      <th>power</th>\n",
        "      <th>cycles_per_day</th>\n",
        "    </tr>\n",
        "  </thead>\n",
        "  <tbody>\n",
        "    <tr>\n",
        "      <th>29</th>\n",
        "      <td> 8.140741e+14</td>\n",
        "      <td> 1.000000</td>\n",
        "    </tr>\n",
        "    <tr>\n",
        "      <th>87</th>\n",
        "      <td> 2.241275e+14</td>\n",
        "      <td> 3.000000</td>\n",
        "    </tr>\n",
        "    <tr>\n",
        "      <th>4 </th>\n",
        "      <td> 1.472320e+14</td>\n",
        "      <td> 0.137931</td>\n",
        "    </tr>\n",
        "    <tr>\n",
        "      <th>58</th>\n",
        "      <td> 1.312033e+14</td>\n",
        "      <td> 2.000000</td>\n",
        "    </tr>\n",
        "    <tr>\n",
        "      <th>25</th>\n",
        "      <td> 5.056959e+13</td>\n",
        "      <td> 0.862069</td>\n",
        "    </tr>\n",
        "    <tr>\n",
        "      <th>8 </th>\n",
        "      <td> 3.692326e+13</td>\n",
        "      <td> 0.275862</td>\n",
        "    </tr>\n",
        "    <tr>\n",
        "      <th>83</th>\n",
        "      <td> 2.677220e+13</td>\n",
        "      <td> 2.862069</td>\n",
        "    </tr>\n",
        "    <tr>\n",
        "      <th>21</th>\n",
        "      <td> 1.959134e+13</td>\n",
        "      <td> 0.724138</td>\n",
        "    </tr>\n",
        "    <tr>\n",
        "      <th>54</th>\n",
        "      <td> 1.914320e+13</td>\n",
        "      <td> 1.862069</td>\n",
        "    </tr>\n",
        "    <tr>\n",
        "      <th>33</th>\n",
        "      <td> 7.602044e+12</td>\n",
        "      <td> 1.137931</td>\n",
        "    </tr>\n",
        "  </tbody>\n",
        "</table>\n",
        "</div>"
       ],
       "metadata": {},
       "output_type": "pyout",
       "prompt_number": 92,
       "text": [
        "           power  cycles_per_day\n",
        "29  8.140741e+14        1.000000\n",
        "87  2.241275e+14        3.000000\n",
        "4   1.472320e+14        0.137931\n",
        "58  1.312033e+14        2.000000\n",
        "25  5.056959e+13        0.862069\n",
        "8   3.692326e+13        0.275862\n",
        "83  2.677220e+13        2.862069\n",
        "21  1.959134e+13        0.724138\n",
        "54  1.914320e+13        1.862069\n",
        "33  7.602044e+12        1.137931"
       ]
      }
     ],
     "prompt_number": 92
    },
    {
     "cell_type": "markdown",
     "metadata": {},
     "source": [
      "Clearly, 1 cycle per day contributes the most to the oscillations observed in the data.  Other significant frequencies include 3 (Nyquist limit), 2, and about 1/7 since there is clearly a weekly oscillation in the data. \n",
      "\n",
      "So how many terms do we need to create a decent fit to the data?  Let's see how much power is contained in the six terms with highest power.  "
     ]
    },
    {
     "cell_type": "code",
     "collapsed": false,
     "input": [
      "tot_power = df_power['power'].sum()"
     ],
     "language": "python",
     "metadata": {},
     "outputs": [],
     "prompt_number": 93
    },
    {
     "cell_type": "code",
     "collapsed": false,
     "input": [
      "big6=df_power.ix[29]['power']+df_power.ix[87]['power']+df_power.ix[4]['power']+ \\\n",
      "     df_power.ix[58]['power']+df_power.ix[25]['power']+df_power.ix[8]['power']"
     ],
     "language": "python",
     "metadata": {},
     "outputs": [],
     "prompt_number": 94
    },
    {
     "cell_type": "code",
     "collapsed": false,
     "input": [
      "big6/tot_power"
     ],
     "language": "python",
     "metadata": {},
     "outputs": [
      {
       "metadata": {},
       "output_type": "pyout",
       "prompt_number": 95,
       "text": [
        "0.905956869347883"
       ]
      }
     ],
     "prompt_number": 95
    },
    {
     "cell_type": "markdown",
     "metadata": {},
     "source": [
      "Roughly 90% of the variance is accounted for in six frequencies, so we'll take the six highest terms and use them to create a model to predict ridership.  We'll zero out the other terms and do a inverse Fourier transform to get the values predicted by our model back in the time domain.  We also have to add back the mean, since we subtracted it initially.  "
     ]
    },
    {
     "cell_type": "code",
     "collapsed": false,
     "input": [
      "data_fit = data_fft\n",
      "for i in range(data_fft.size):\n",
      "    if i not in [29, 87, 4, 58, 25, 8]:\n",
      "        data_fit[i] = 0\n",
      "data_pred1 = np.fft.irfft(data_fit)\n",
      "data_fit = df_day['ENTRIESn_hourly']\n",
      "data_pred_denorm = data_pred1 + data_mean\n",
      "df_day['pred'] = data_pred_denorm"
     ],
     "language": "python",
     "metadata": {},
     "outputs": [],
     "prompt_number": 96
    },
    {
     "cell_type": "markdown",
     "metadata": {},
     "source": [
      "Let's take a look at R squared for the Fourier model, computed against the actual data.  "
     ]
    },
    {
     "cell_type": "code",
     "collapsed": false,
     "input": [
      "df_day['ssres'] = (df_day['ENTRIESn_hourly'] - df_day['pred'])**2\n",
      "df_day['sstot'] = (df_day['ENTRIESn_hourly'] - data_mean)**2\n",
      "R2_fft = 1 - df_day['ssres'].sum()/df_day['sstot'].sum()\n",
      "R2_fft"
     ],
     "language": "python",
     "metadata": {},
     "outputs": [
      {
       "metadata": {},
       "output_type": "pyout",
       "prompt_number": 97,
       "text": [
        "0.89862715418031458"
       ]
      }
     ],
     "prompt_number": 97
    },
    {
     "cell_type": "markdown",
     "metadata": {},
     "source": [
      "We have a much better R squared using a Fourier series model."
     ]
    },
    {
     "cell_type": "heading",
     "level": 3,
     "metadata": {},
     "source": [
      "2.4 Answers to Short Questions"
     ]
    },
    {
     "cell_type": "heading",
     "level": 4,
     "metadata": {},
     "source": [
      "2.4.1  What approach did you use to compute the coefficients theta and produce prediction for ENTRIESn_hourly in your regression model?"
     ]
    },
    {
     "cell_type": "markdown",
     "metadata": {},
     "source": [
      "I used ordinary least squares (OLS) for both raw data and data aggregated by time.  I also used a Fourier series approximation for data aggregated by time. "
     ]
    },
    {
     "cell_type": "heading",
     "level": 4,
     "metadata": {},
     "source": [
      "2.4.2  What features (input variables) did you use in your model? Did you use any dummy variables as part of your features?"
     ]
    },
    {
     "cell_type": "markdown",
     "metadata": {},
     "source": [
      "I used 'hour' and 'weekday'as features for the OLS models.  For the \"raw\" data I also used dummy variables based on 'UNIT'.  \n",
      "\n",
      "The Fourier model uses frequencies as features in the frequency domain."
     ]
    },
    {
     "cell_type": "heading",
     "level": 4,
     "metadata": {},
     "source": [
      "2.4.3  Why did you select these features in your model? "
     ]
    },
    {
     "cell_type": "markdown",
     "metadata": {},
     "source": [
      "The NYC subway data are a time series so I plotted total ENTRIESn_hourly vs. time.  By inspection of this plot, it appears that ridership is a periodic function of time.  In particular, hour of day and day of week seem to be significant.  "
     ]
    },
    {
     "cell_type": "heading",
     "level": 4,
     "metadata": {},
     "source": [
      "2.4.4  What are the coefficients (or weights) of the non-dummy features in your linear regression model?"
     ]
    },
    {
     "cell_type": "markdown",
     "metadata": {},
     "source": [
      "For OLS regression using raw data:"
     ]
    },
    {
     "cell_type": "code",
     "collapsed": false,
     "input": [
      "weights = results.params"
     ],
     "language": "python",
     "metadata": {},
     "outputs": [],
     "prompt_number": 98
    },
    {
     "cell_type": "code",
     "collapsed": false,
     "input": [
      "print weights['const'], weights['hour'], weights['weekday'], weights['rain']"
     ],
     "language": "python",
     "metadata": {},
     "outputs": [
      {
       "output_type": "stream",
       "stream": "stdout",
       "text": [
        "-6.56986847551e+14 123.83429594 1047.83374466 -18.7832650704\n"
       ]
      }
     ],
     "prompt_number": 99
    },
    {
     "cell_type": "markdown",
     "metadata": {},
     "source": [
      "For OLS regression using aggregated data:"
     ]
    },
    {
     "cell_type": "code",
     "collapsed": false,
     "input": [
      "results1.params"
     ],
     "language": "python",
     "metadata": {},
     "outputs": [
      {
       "metadata": {},
       "output_type": "pyout",
       "prompt_number": 100,
       "text": [
        "const      -22072.436782\n",
        "hour        29439.860345\n",
        "weekday    239944.266667\n",
        "dtype: float64"
       ]
      }
     ],
     "prompt_number": 100
    },
    {
     "cell_type": "markdown",
     "metadata": {},
     "source": [
      "For the Fourier model, the weights (used with frequencies) are:"
     ]
    },
    {
     "cell_type": "code",
     "collapsed": false,
     "input": [
      "for i in range(data_fft.size):\n",
      "    if i in [29, 87, 4, 58, 25, 8]:\n",
      "        print data_fft[i]"
     ],
     "language": "python",
     "metadata": {},
     "outputs": [
      {
       "output_type": "stream",
       "stream": "stdout",
       "text": [
        "(-11932043.9197-2204164.67207j)\n",
        "(-5550945.64964-2471894.17986j)\n",
        "(3336660.62862-6279831.73392j)\n",
        "(-9215240.5+27002840.965j)\n",
        "(8278568.5+7916351.20637j)\n",
        "(-14970889+0j)\n"
       ]
      }
     ],
     "prompt_number": 101
    },
    {
     "cell_type": "heading",
     "level": 4,
     "metadata": {},
     "source": [
      "2.4.5  What is your model\u2019s R2 (coefficients of determination) value?"
     ]
    },
    {
     "cell_type": "markdown",
     "metadata": {},
     "source": [
      "For the OLS model with raw data:"
     ]
    },
    {
     "cell_type": "code",
     "collapsed": false,
     "input": [
      "results.rsquared"
     ],
     "language": "python",
     "metadata": {},
     "outputs": [
      {
       "metadata": {},
       "output_type": "pyout",
       "prompt_number": 102,
       "text": [
        "0.48708747120241269"
       ]
      }
     ],
     "prompt_number": 102
    },
    {
     "cell_type": "markdown",
     "metadata": {},
     "source": [
      "For OLS model with data aggregated by date and time:"
     ]
    },
    {
     "cell_type": "code",
     "collapsed": false,
     "input": [
      "results1.rsquared"
     ],
     "language": "python",
     "metadata": {},
     "outputs": [
      {
       "metadata": {},
       "output_type": "pyout",
       "prompt_number": 103,
       "text": [
        "0.55557127781072146"
       ]
      }
     ],
     "prompt_number": 103
    },
    {
     "cell_type": "markdown",
     "metadata": {},
     "source": [
      "For the Fourier model using data aggregated by date and time:"
     ]
    },
    {
     "cell_type": "code",
     "collapsed": false,
     "input": [
      "R2_fft"
     ],
     "language": "python",
     "metadata": {},
     "outputs": [
      {
       "metadata": {},
       "output_type": "pyout",
       "prompt_number": 104,
       "text": [
        "0.89862715418031458"
       ]
      }
     ],
     "prompt_number": 104
    },
    {
     "cell_type": "heading",
     "level": 4,
     "metadata": {},
     "source": [
      "2.4.6  What does this R2 value mean for the goodness of fit for your regression model? Do you think this linear model to predict ridership is appropriate for this dataset, given this R2 value?"
     ]
    },
    {
     "cell_type": "markdown",
     "metadata": {},
     "source": [
      "The goodness of fit for the two OLS models are not very good, and I do not htink they would be useful for predicting ridership.  The Fourier model, on the other hand, looks like it would be fairly accurate for predicting ridership aggregated by date and time.  "
     ]
    },
    {
     "cell_type": "heading",
     "level": 2,
     "metadata": {},
     "source": [
      "3.  Visualization"
     ]
    },
    {
     "cell_type": "heading",
     "level": 3,
     "metadata": {},
     "source": [
      "3.1 Histograms"
     ]
    },
    {
     "cell_type": "markdown",
     "metadata": {},
     "source": [
      "Plots below are histograms for rainy and non-rainy days, i.e., data samples split by 'rain' column value.  NOTE:  KeyError below is due to there not being a zero index row in the \"rainy\" dataframe."
     ]
    },
    {
     "cell_type": "code",
     "collapsed": false,
     "input": [
      "rainydf = df[df['rain'] == 1]\n",
      "rainydf = rainydf.dropna().reset_index(drop=True)\n",
      "ggplot(rainydf, aes(x = 'ENTRIESn_hourly')) + geom_histogram(binwidth = 200) + ggtitle(\n",
      "\"ENTRIESn_hourly for Rainy Days\") + ylab('Frequency')"
     ],
     "language": "python",
     "metadata": {},
     "outputs": [
      {
       "metadata": {},
       "output_type": "display_data",
       "png": "[encoded data removed]",
       "text": [
        "<matplotlib.figure.Figure at 0x10c27d3d0>"
       ]
      },
      {
       "metadata": {},
       "output_type": "pyout",
       "prompt_number": 109,
       "text": [
        "<ggplot: (286621785)>"
       ]
      }
     ],
     "prompt_number": 109
    },
    {
     "cell_type": "code",
     "collapsed": false,
     "input": [
      "max(rainydf['ENTRIESn_hourly'])"
     ],
     "language": "python",
     "metadata": {},
     "outputs": [
      {
       "metadata": {},
       "output_type": "pyout",
       "prompt_number": 107,
       "text": [
        "32289.0"
       ]
      }
     ],
     "prompt_number": 107
    },
    {
     "cell_type": "code",
     "collapsed": false,
     "input": [
      "not_rainydf = df[df['rain'] == 0]\n",
      "ggplot(not_rainydf, aes(x = 'ENTRIESn_hourly')) + geom_histogram(binwidth = 200) + ggtitle(\n",
      "\"ENTRIESn_hourly for Non-Rainy Days\") + ylab('Frequency')"
     ],
     "language": "python",
     "metadata": {},
     "outputs": [
      {
       "metadata": {},
       "output_type": "display_data",
       "png": "[encoded data removed]",
       "text": [
        "<matplotlib.figure.Figure at 0x111dd1b10>"
       ]
      },
      {
       "metadata": {},
       "output_type": "pyout",
       "prompt_number": 108,
       "text": [
        "<ggplot: (287166893)>"
       ]
      }
     ],
     "prompt_number": 108
    },
    {
     "cell_type": "code",
     "collapsed": false,
     "input": [
      "max(not_rainydf['ENTRIESn_hourly'])"
     ],
     "language": "python",
     "metadata": {},
     "outputs": [
      {
       "metadata": {},
       "output_type": "pyout",
       "prompt_number": 110,
       "text": [
        "32814.0"
       ]
      }
     ],
     "prompt_number": 110
    },
    {
     "cell_type": "markdown",
     "metadata": {},
     "source": [
      "The next set of histograms is for rainy and non-rainy WEATHER CONDITIONS, i.e., samples split by 'conds' column values."
     ]
    },
    {
     "cell_type": "code",
     "collapsed": false,
     "input": [
      "rainy_condsdf=df[(df['conds']=='Heavy Rain')|(df['conds']=='Light Drizzle')|(df['conds']==\n",
      "                             'Light Rain')|(df['conds']=='Rain')]\n",
      "not_rainy_condsdf=df[(df['conds']=='Clear')|(df['conds']=='Fog')|(df['conds']==\n",
      "                             'Haze')|(df['conds']=='Mist')|(df['conds']==\n",
      "                             'Mostly Cloudy')|(df['conds']=='Overcast')|(df['conds']==\n",
      "                             'Partly Cloudy')|(df['conds']=='Scattered Clouds')]"
     ],
     "language": "python",
     "metadata": {},
     "outputs": [],
     "prompt_number": 111
    },
    {
     "cell_type": "code",
     "collapsed": false,
     "input": [
      "rainy_condsdf = rainy_condsdf.dropna().reset_index(drop=True)\n",
      "ggplot(rainy_condsdf, aes(x = 'ENTRIESn_hourly')) + geom_histogram(binwidth = 200) + ggtitle(\n",
      "\"ENTRIESn_hourly for Rainy Conditions\") + ylab('Frequency')"
     ],
     "language": "python",
     "metadata": {},
     "outputs": [
      {
       "metadata": {},
       "output_type": "display_data",
       "png": "[encoded data removed]",
       "text": [
        "<matplotlib.figure.Figure at 0x115070790>"
       ]
      },
      {
       "metadata": {},
       "output_type": "pyout",
       "prompt_number": 112,
       "text": [
        "<ggplot: (290484277)>"
       ]
      }
     ],
     "prompt_number": 112
    },
    {
     "cell_type": "code",
     "collapsed": false,
     "input": [
      "ggplot(not_rainy_condsdf, aes(x = 'ENTRIESn_hourly')) + geom_histogram(binwidth = 200) + ggtitle(\n",
      "\"ENTRIESn_hourly for Non-Rainy Conditions\") + ylab('Frequency')"
     ],
     "language": "python",
     "metadata": {},
     "outputs": [
      {
       "metadata": {},
       "output_type": "display_data",
       "png": "[encoded data removed]",
       "text": [
        "<matplotlib.figure.Figure at 0x11d949c90>"
       ]
      },
      {
       "metadata": {},
       "output_type": "pyout",
       "prompt_number": 113,
       "text": [
        "<ggplot: (281124773)>"
       ]
      }
     ],
     "prompt_number": 113
    },
    {
     "cell_type": "heading",
     "level": 3,
     "metadata": {},
     "source": [
      "3.2  Other Visualizations"
     ]
    },
    {
     "cell_type": "markdown",
     "metadata": {},
     "source": [
      "The plot below shows the sum of ENTRIESn_hourly by hour of week.  This clearly shows that ridership is a periodic function of time, with daily and weekly periods.  "
     ]
    },
    {
     "cell_type": "code",
     "collapsed": false,
     "input": [
      "dfplot_hour_week = dfplot.groupby('hour_week', as_index=False).sum()\n",
      "dfplot_hour_week['ENTRIESn_hourly'] = dfplot_hour_week['ENTRIESn_hourly'] / 4\n",
      "ggplot(dfplot_hour_week, aes(x='hour_week', \n",
      "           y='ENTRIESn_hourly')) + geom_line(stat='identity') + ggtitle(\n",
      "            'Sum of Hourly Entries by Hour of Week')"
     ],
     "language": "python",
     "metadata": {},
     "outputs": [
      {
       "metadata": {},
       "output_type": "display_data",
       "png": "[encoded data removed]",
       "text": [
        "<matplotlib.figure.Figure at 0x11dcfaf90>"
       ]
      },
      {
       "metadata": {},
       "output_type": "pyout",
       "prompt_number": 114,
       "text": [
        "<ggplot: (281626553)>"
       ]
      }
     ],
     "prompt_number": 114
    },
    {
     "cell_type": "markdown",
     "metadata": {},
     "source": [
      "The next plot shows the power spectral density of ENTRIESn_hourly aggregated by date and time.  Cleary, 1 cycle per day is the dominant frequency.  "
     ]
    },
    {
     "cell_type": "code",
     "collapsed": false,
     "input": [
      "ggplot(df_power, aes(x='cycles_per_day', \n",
      "           y='power')) + geom_line(stat='identity') + ggtitle(\n",
      "            'Power Spectrum in NYC Subway ENTRIESn_hourly')"
     ],
     "language": "python",
     "metadata": {},
     "outputs": [
      {
       "metadata": {},
       "output_type": "display_data",
       "png": "[encoded data removed]",
       "text": [
        "<matplotlib.figure.Figure at 0x1133dca90>"
       ]
      },
      {
       "metadata": {},
       "output_type": "pyout",
       "prompt_number": 115,
       "text": [
        "<ggplot: (299152917)>"
       ]
      }
     ],
     "prompt_number": 115
    },
    {
     "cell_type": "markdown",
     "metadata": {},
     "source": [
      "The following plot shows the actual NYC subway data (aggregated by date and time) in blue with the Fourier model prediction in red.  The Fourier model does a reasonable job of matching the actual NYC subway data.  The Fourier model tends to underpredict maximum ridership on weekdays and overpredict maximum ridership on weekends.  Also, the model predicts NEGATIVE ridership at certain times, which is clearly incorrect."
     ]
    },
    {
     "cell_type": "code",
     "collapsed": false,
     "input": [
      "ggplot(df_day, aes(x = 'hour_month')) + geom_line(\n",
      "  aes(y = 'ENTRIESn_hourly', colour = \"blue\")\n",
      "    ) + geom_line(aes(y = 'pred', colour = \"red\")) + ggtitle(\n",
      "            'Actual Data (Blue) and Fourier Model Prediction (Red)')\n",
      "# Can't get legend on ggplot when using inline in Ipython.  This seems to be a bug.  \n",
      "#  See https://github.com/yhat/ggplot/issues/33\n",
      "#  Here, blue is actual NYC subway data aggregated by date and time and red is Fourier model."
     ],
     "language": "python",
     "metadata": {},
     "outputs": [
      {
       "metadata": {},
       "output_type": "display_data",
       "png": "[encoded data removed]",
       "text": [
        "<matplotlib.figure.Figure at 0x12431be10>"
       ]
      },
      {
       "metadata": {},
       "output_type": "pyout",
       "prompt_number": 116,
       "text": [
        "<ggplot: (297139593)>"
       ]
      }
     ],
     "prompt_number": 116
    },
    {
     "cell_type": "heading",
     "level": 2,
     "metadata": {},
     "source": [
      "4.  Conclusions"
     ]
    },
    {
     "cell_type": "heading",
     "level": 3,
     "metadata": {},
     "source": [
      "4.1 From your analysis and interpretation of the data, do more people ride the NYC subway when it is raining or when it is not raining?"
     ]
    },
    {
     "cell_type": "markdown",
     "metadata": {},
     "source": [
      "It depends on how you define \"when\" and \"raining.\"  If you split the data into two samples based on days when rain occurred at some point ('rain' column), there is a small but measurable increase in ridership on rainy days.  If you split the data into two samples based on weather conditions when the measurements were taken ('conds' column), there is no statistically significant difference in ridership between rainy and not-rainy samples.    \n",
      "\n",
      "Either way, time of day and day of week have a much bigger effect on ridership than rain.  "
     ]
    },
    {
     "cell_type": "heading",
     "level": 3,
     "metadata": {},
     "source": [
      "4.2 What analyses lead you to this conclusion? You should use results from both your statistical tests and your linear regression to support your analysis."
     ]
    },
    {
     "cell_type": "markdown",
     "metadata": {},
     "source": [
      "The Mann-Whitney test on samples based on the 'rain' column show that there is sufficient evidence to reject the null hypothesis that the samples come from the same population.  However, the Mann-Whitney test on samples based on the 'conds' column show that there is not sufficient evidence to reject the null hypothesis that the samples come from the same population.  \n",
      "\n",
      "The linear regression analysis showed that ridership is periodic function of time.  In particular, the Fourier model with six frequency terms had a coefficent of determination of almost 90%.  "
     ]
    },
    {
     "cell_type": "heading",
     "level": 2,
     "metadata": {},
     "source": [
      "5.  Reflection"
     ]
    },
    {
     "cell_type": "heading",
     "level": 3,
     "metadata": {},
     "source": [
      "5.1 Please discuss potential shortcomings of the methods of your analysis, including: 1. Dataset,\n",
      "2. Analysis, such as the linear regression model or statistical test."
     ]
    },
    {
     "cell_type": "markdown",
     "metadata": {},
     "source": [
      "There are several shortcomings in the dataset.  For instance, weather conditions were not measured at the exact same location as the subway stations so there is an unknown uncertainty regarding actual weather conditions at the time the entries were recorded.  As noted in Reference 1, there are obvious missing values in the data which I did not account for in my analysis.  \n",
      "\n",
      "The large number of data points made the results of the Shapiro-Wilks normality test inconclusive.  I relied on a visual inspection of the histograms to determine that the data were not normal.  A more thorough analysis would include a Q-Q plot and calculation of skewness and kurtosis.  Furthermore, a careful use of analysis of variance techniques would show how much of the variability in the data is attributable to the effect of rain.  \n",
      "\n",
      "It is possible that the sheer sample size may have caused \"overpowering\" of the Mann-Whitney test, resulting in type I error for the samples split by the 'rain' column.  The large sample size is not a concern in the cases where we accepted the null hypothesis.  \n",
      "\n",
      "In the linear regression section, I used a very limited set of features in developing my models.  Furthermore, it would be better practice to split the data into training and testing sets to evaluate the accuracy of the predictive model.  "
     ]
    },
    {
     "cell_type": "heading",
     "level": 3,
     "metadata": {},
     "source": [
      "5.2 (Optional) Do you have any other insight about the dataset that you would like to share with us?"
     ]
    },
    {
     "cell_type": "markdown",
     "metadata": {},
     "source": [
      "It was surpising to me that splitting the samples by 'rain' and 'conds' columns would yield opposite results in terms of the effect of rain on ridership.  \n",
      "\n",
      "The strongly periodic nature of ridership was not surprising.  I would tend to think that subway ridership is probably driven by commuter traffic most of the time and should be very predictable once you separate weekdays from weekends and holidays.  "
     ]
    }
   ],
   "metadata": {}
  }
 ]
}